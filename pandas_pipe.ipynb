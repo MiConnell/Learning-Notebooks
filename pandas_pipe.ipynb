{
 "metadata": {
  "language_info": {
   "codemirror_mode": {
    "name": "ipython",
    "version": 3
   },
   "file_extension": ".py",
   "mimetype": "text/x-python",
   "name": "python",
   "nbconvert_exporter": "python",
   "pygments_lexer": "ipython3",
   "version": "3.8.5-final"
  },
  "orig_nbformat": 2,
  "kernelspec": {
   "name": "python_defaultSpec_1599858866260",
   "display_name": "Python 3.8.5 64-bit"
  }
 },
 "nbformat": 4,
 "nbformat_minor": 2,
 "cells": [
  {
   "source": [
    "# Pandas Pipe"
   ],
   "cell_type": "markdown",
   "metadata": {}
  },
  {
   "source": [
    "_________________________\n",
    "## *Pipe*\n",
    "_________________________"
   ],
   "cell_type": "markdown",
   "metadata": {}
  },
  {
   "cell_type": "code",
   "execution_count": 3,
   "metadata": {},
   "outputs": [
    {
     "output_type": "execute_result",
     "data": {
      "text/plain": "            date currency_code  ... dollar_ex  dollar_price\n0     2000-04-01           ARS  ...    1.0000      2.500000\n1     2000-04-01           AUD  ...    1.6800      1.541667\n2     2000-04-01           BRL  ...    1.7900      1.648045\n3     2000-04-01           CAD  ...    1.4700      1.938776\n4     2000-04-01           CHF  ...    1.7000      3.470588\n...          ...           ...  ...       ...           ...\n1321  2020-01-14           SEK  ...    9.4591      5.444493\n1322  2020-01-14           THB  ...   30.2775      3.798200\n1324  2020-01-14           TWD  ...   29.8845      2.409276\n1327  2020-01-14           USD  ...    1.0000      5.670000\n1329  2020-01-14           ZAR  ...   14.3910      2.154124\n\n[864 rows x 6 columns]",
      "text/html": "<div>\n<style scoped>\n    .dataframe tbody tr th:only-of-type {\n        vertical-align: middle;\n    }\n\n    .dataframe tbody tr th {\n        vertical-align: top;\n    }\n\n    .dataframe thead th {\n        text-align: right;\n    }\n</style>\n<table border=\"1\" class=\"dataframe\">\n  <thead>\n    <tr style=\"text-align: right;\">\n      <th></th>\n      <th>date</th>\n      <th>currency_code</th>\n      <th>name</th>\n      <th>local_price</th>\n      <th>dollar_ex</th>\n      <th>dollar_price</th>\n    </tr>\n  </thead>\n  <tbody>\n    <tr>\n      <th>0</th>\n      <td>2000-04-01</td>\n      <td>ARS</td>\n      <td>Argentina</td>\n      <td>2.50</td>\n      <td>1.0000</td>\n      <td>2.500000</td>\n    </tr>\n    <tr>\n      <th>1</th>\n      <td>2000-04-01</td>\n      <td>AUD</td>\n      <td>Australia</td>\n      <td>2.59</td>\n      <td>1.6800</td>\n      <td>1.541667</td>\n    </tr>\n    <tr>\n      <th>2</th>\n      <td>2000-04-01</td>\n      <td>BRL</td>\n      <td>Brazil</td>\n      <td>2.95</td>\n      <td>1.7900</td>\n      <td>1.648045</td>\n    </tr>\n    <tr>\n      <th>3</th>\n      <td>2000-04-01</td>\n      <td>CAD</td>\n      <td>Canada</td>\n      <td>2.85</td>\n      <td>1.4700</td>\n      <td>1.938776</td>\n    </tr>\n    <tr>\n      <th>4</th>\n      <td>2000-04-01</td>\n      <td>CHF</td>\n      <td>Switzerland</td>\n      <td>5.90</td>\n      <td>1.7000</td>\n      <td>3.470588</td>\n    </tr>\n    <tr>\n      <th>...</th>\n      <td>...</td>\n      <td>...</td>\n      <td>...</td>\n      <td>...</td>\n      <td>...</td>\n      <td>...</td>\n    </tr>\n    <tr>\n      <th>1321</th>\n      <td>2020-01-14</td>\n      <td>SEK</td>\n      <td>Sweden</td>\n      <td>51.50</td>\n      <td>9.4591</td>\n      <td>5.444493</td>\n    </tr>\n    <tr>\n      <th>1322</th>\n      <td>2020-01-14</td>\n      <td>THB</td>\n      <td>Thailand</td>\n      <td>115.00</td>\n      <td>30.2775</td>\n      <td>3.798200</td>\n    </tr>\n    <tr>\n      <th>1324</th>\n      <td>2020-01-14</td>\n      <td>TWD</td>\n      <td>Taiwan</td>\n      <td>72.00</td>\n      <td>29.8845</td>\n      <td>2.409276</td>\n    </tr>\n    <tr>\n      <th>1327</th>\n      <td>2020-01-14</td>\n      <td>USD</td>\n      <td>United States</td>\n      <td>5.67</td>\n      <td>1.0000</td>\n      <td>5.670000</td>\n    </tr>\n    <tr>\n      <th>1329</th>\n      <td>2020-01-14</td>\n      <td>ZAR</td>\n      <td>South Africa</td>\n      <td>31.00</td>\n      <td>14.3910</td>\n      <td>2.154124</td>\n    </tr>\n  </tbody>\n</table>\n<p>864 rows × 6 columns</p>\n</div>"
     },
     "metadata": {},
     "execution_count": 3
    }
   ],
   "source": [
    "import pandas as pd\n",
    "df = pd.read_csv('https://calmcode.io/datasets/bigmac.csv')\n",
    "\n",
    "df2 = (df\n",
    "    .assign(date=lambda d: pd.to_datetime(d['date']))\n",
    "    .sort_values(['currency_code', 'date'])\n",
    "    .groupby('currency_code')\n",
    "    .agg(n=('date', 'count')))\n",
    "\n",
    "df.loc[lambda d: d['currency_code'].isin(df2[df2['n'] >= 32].index)]"
   ]
  },
  {
   "source": [
    "- big mac dataset may be able to show economic activity in different countries based on big mac prices\n",
    "- we've assigned a date format to the date column, and sorted by currency code and date\n",
    "- if we only want to see rows where the count of date is greater than 32, column `n` from the above, making a new dataframe and then returning only those rows is doable, but ugly and can be done more easily"
   ],
   "cell_type": "markdown",
   "metadata": {}
  },
  {
   "source": [
    "Functionally, our code should look like\n",
    "- read dataframe\n",
    "- set datatypes\n",
    "- remove outliers\n",
    "    - this is like grammar (read dataframe is the noun, datatypes and outliers are verbs)\n",
    "    \n",
    "We can also look at this like a pipeline, df -> set dtypes -> remove outliers ->\n",
    "\n",
    "- the code can be split into interpretable bits with *piping*\n",
    "\n",
    "        df.pipe(set_dtypes).pipe(remove_outliers)\n",
    "\n",
    "Let's take the above code, and adapt it to this piping"
   ],
   "cell_type": "markdown",
   "metadata": {}
  },
  {
   "cell_type": "code",
   "execution_count": 7,
   "metadata": {},
   "outputs": [
    {
     "output_type": "execute_result",
     "data": {
      "text/plain": "(864, 6)"
     },
     "metadata": {},
     "execution_count": 7
    }
   ],
   "source": [
    "def set_dtypes(dataf: pd.DataFrame) -> pd.DataFrame:\n",
    "    return (dataf\n",
    "    .assign(date=lambda d: pd.to_datetime(d['date']))\n",
    "    .sort_values(['currency_code', 'date'])\n",
    "    )\n",
    "\n",
    "def remove_outliers(dataf: pd.DataFrame) -> pd.DataFrame:\n",
    "    min_row_country=32\n",
    "    countries = (dataf\n",
    "    .groupby('currency_code')\n",
    "    .agg(n=('name', 'count'))\n",
    "    .loc[lambda d: d['n'] >= min_row_country]\n",
    "    .index\n",
    "    )\n",
    "    return (dataf\n",
    "    .loc[lambda d: d['currency_code'].isin(countries)])\n",
    "\n",
    "df.pipe(set_dtypes).pipe(remove_outliers).shape"
   ]
  },
  {
   "source": [
    "- now we aren't creating an intermediate dataframe, but instead calling the dataframe countries\n",
    "- separate functions will be very useful as the notebook grows "
   ],
   "cell_type": "markdown",
   "metadata": {}
  },
  {
   "source": [
    "_________________________\n",
    "## *Arguments*\n",
    "_________________________"
   ],
   "cell_type": "markdown",
   "metadata": {}
  },
  {
   "source": [
    "- what if we want to change the min_row_country? \n",
    "- adding it to the remove_outliers function can be modified in the pipe."
   ],
   "cell_type": "markdown",
   "metadata": {}
  },
  {
   "cell_type": "code",
   "execution_count": 8,
   "metadata": {},
   "outputs": [
    {
     "output_type": "execute_result",
     "data": {
      "text/plain": "(1248, 6)"
     },
     "metadata": {},
     "execution_count": 8
    }
   ],
   "source": [
    "def set_dtypes(dataf: pd.DataFrame) -> pd.DataFrame:\n",
    "    return (dataf\n",
    "    .assign(date=lambda d: pd.to_datetime(d['date']))\n",
    "    .sort_values(['currency_code', 'date'])\n",
    "    )\n",
    "\n",
    "def remove_outliers(dataf: pd.DataFrame, min_row_country:int =32) -> pd.DataFrame:\n",
    "    countries = (dataf\n",
    "    .groupby('currency_code')\n",
    "    .agg(n=('name', 'count'))\n",
    "    .loc[lambda d: d['n'] >= min_row_country]\n",
    "    .index\n",
    "    )\n",
    "    return (dataf\n",
    "    .loc[lambda d: d['currency_code'].isin(countries)])\n",
    "\n",
    "df.pipe(set_dtypes).pipe(remove_outliers, min_row_country=20).shape"
   ]
  },
  {
   "source": [
    "by introducing parameters, we can declare features that we want to be able to change on a macro level instead of a micro level as the pipeline grows\n"
   ],
   "cell_type": "markdown",
   "metadata": {}
  },
  {
   "source": [
    "_________________________\n",
    "## *Start*\n",
    "_________________________"
   ],
   "cell_type": "markdown",
   "metadata": {}
  },
  {
   "source": [
    "we can either `set_dtypes(df)` or `df.pipe(set_dtypes)`; both will return the same results, but pipe is better since we can have multiple pipes\n",
    "\n",
    "        df.pipe(set_dtypes).pipe(remove_outliers)\n",
    "\n",
    "vs.\n",
    "\n",
    "        remove_outliers(set_dtypes(df))"
   ],
   "cell_type": "markdown",
   "metadata": {}
  },
  {
   "cell_type": "code",
   "execution_count": 10,
   "metadata": {},
   "outputs": [
    {
     "output_type": "execute_result",
     "data": {
      "text/plain": "date              object\ncurrency_code     object\nname              object\nlocal_price      float64\ndollar_ex        float64\ndollar_price     float64\ndtype: object"
     },
     "metadata": {},
     "execution_count": 10
    }
   ],
   "source": [
    "def set_dtypes(dataf: pd.DataFrame) -> pd.DataFrame:\n",
    "    return (dataf\n",
    "    .assign(date=lambda d: pd.to_datetime(d['date']))\n",
    "    .sort_values(['currency_code', 'date'])\n",
    "    )\n",
    "df.pipe(set_dtypes).dtypes\n",
    "df.dtypes"
   ]
  },
  {
   "source": [
    "- it's dangerous to have pipeline steps that change data types, the date column in the original dataframe is an object, but after piping it's a datetime.\n",
    "- this could be tough when debugging\n",
    "- it's best to apply the pipe to a copy of the dataframe\n"
   ],
   "cell_type": "markdown",
   "metadata": {}
  },
  {
   "cell_type": "code",
   "execution_count": 14,
   "metadata": {},
   "outputs": [
    {
     "output_type": "execute_result",
     "data": {
      "text/plain": "(dtype('<M8[ns]'), dtype('O'))"
     },
     "metadata": {},
     "execution_count": 14
    }
   ],
   "source": [
    "def start_pipeline(dataf):\n",
    "    return dataf.copy()\n",
    "\n",
    "df.pipe(start_pipeline).pipe(set_dtypes).dtypes, df.dtypes"
   ]
  },
  {
   "source": [
    "- now any pipeline that follows the `start_pipeline` will not affect the original dataframe"
   ],
   "cell_type": "markdown",
   "metadata": {}
  },
  {
   "source": [
    "_________________________\n",
    "## *Logs*\n",
    "_________________________"
   ],
   "cell_type": "markdown",
   "metadata": {}
  },
  {
   "cell_type": "code",
   "execution_count": 15,
   "metadata": {},
   "outputs": [
    {
     "output_type": "execute_result",
     "data": {
      "text/plain": "           date currency_code  ... dollar_ex  dollar_price\n0    2000-04-01           ARS  ...   1.00000      2.500000\n28   2001-04-01           ARS  ...   1.00000      2.500000\n56   2002-04-01           ARS  ...   3.13000      0.798722\n88   2003-04-01           ARS  ...   2.88000      1.423611\n119  2004-05-01           ARS  ...   2.95000      1.477966\n...         ...           ...  ...       ...           ...\n1105 2018-01-01           ZAR  ...  12.25815      2.447351\n1161 2018-07-01           ZAR  ...  13.36190      2.320029\n1217 2019-01-01           ZAR  ...  13.86750      2.235443\n1273 2019-07-09           ZAR  ...  14.17500      2.186949\n1329 2020-01-14           ZAR  ...  14.39100      2.154124\n\n[864 rows x 6 columns]",
      "text/html": "<div>\n<style scoped>\n    .dataframe tbody tr th:only-of-type {\n        vertical-align: middle;\n    }\n\n    .dataframe tbody tr th {\n        vertical-align: top;\n    }\n\n    .dataframe thead th {\n        text-align: right;\n    }\n</style>\n<table border=\"1\" class=\"dataframe\">\n  <thead>\n    <tr style=\"text-align: right;\">\n      <th></th>\n      <th>date</th>\n      <th>currency_code</th>\n      <th>name</th>\n      <th>local_price</th>\n      <th>dollar_ex</th>\n      <th>dollar_price</th>\n    </tr>\n  </thead>\n  <tbody>\n    <tr>\n      <th>0</th>\n      <td>2000-04-01</td>\n      <td>ARS</td>\n      <td>Argentina</td>\n      <td>2.50</td>\n      <td>1.00000</td>\n      <td>2.500000</td>\n    </tr>\n    <tr>\n      <th>28</th>\n      <td>2001-04-01</td>\n      <td>ARS</td>\n      <td>Argentina</td>\n      <td>2.50</td>\n      <td>1.00000</td>\n      <td>2.500000</td>\n    </tr>\n    <tr>\n      <th>56</th>\n      <td>2002-04-01</td>\n      <td>ARS</td>\n      <td>Argentina</td>\n      <td>2.50</td>\n      <td>3.13000</td>\n      <td>0.798722</td>\n    </tr>\n    <tr>\n      <th>88</th>\n      <td>2003-04-01</td>\n      <td>ARS</td>\n      <td>Argentina</td>\n      <td>4.10</td>\n      <td>2.88000</td>\n      <td>1.423611</td>\n    </tr>\n    <tr>\n      <th>119</th>\n      <td>2004-05-01</td>\n      <td>ARS</td>\n      <td>Argentina</td>\n      <td>4.36</td>\n      <td>2.95000</td>\n      <td>1.477966</td>\n    </tr>\n    <tr>\n      <th>...</th>\n      <td>...</td>\n      <td>...</td>\n      <td>...</td>\n      <td>...</td>\n      <td>...</td>\n      <td>...</td>\n    </tr>\n    <tr>\n      <th>1105</th>\n      <td>2018-01-01</td>\n      <td>ZAR</td>\n      <td>South Africa</td>\n      <td>30.00</td>\n      <td>12.25815</td>\n      <td>2.447351</td>\n    </tr>\n    <tr>\n      <th>1161</th>\n      <td>2018-07-01</td>\n      <td>ZAR</td>\n      <td>South Africa</td>\n      <td>31.00</td>\n      <td>13.36190</td>\n      <td>2.320029</td>\n    </tr>\n    <tr>\n      <th>1217</th>\n      <td>2019-01-01</td>\n      <td>ZAR</td>\n      <td>South Africa</td>\n      <td>31.00</td>\n      <td>13.86750</td>\n      <td>2.235443</td>\n    </tr>\n    <tr>\n      <th>1273</th>\n      <td>2019-07-09</td>\n      <td>ZAR</td>\n      <td>South Africa</td>\n      <td>31.00</td>\n      <td>14.17500</td>\n      <td>2.186949</td>\n    </tr>\n    <tr>\n      <th>1329</th>\n      <td>2020-01-14</td>\n      <td>ZAR</td>\n      <td>South Africa</td>\n      <td>31.00</td>\n      <td>14.39100</td>\n      <td>2.154124</td>\n    </tr>\n  </tbody>\n</table>\n<p>864 rows × 6 columns</p>\n</div>"
     },
     "metadata": {},
     "execution_count": 15
    }
   ],
   "source": [
    "# applying pipes\n",
    "(df\n",
    ".pipe(start_pipeline)\n",
    ".pipe(set_dtypes)\n",
    ".pipe(remove_outliers, min_row_country=32)\n",
    ")"
   ]
  },
  {
   "source": [
    "- this pipeline will grow as we add steps\n",
    "- adding logging will help us as the pipelines happen\n",
    "- since the pipeline setps are all functions, we can apply a decorator to each of them\n",
    "\n"
   ],
   "cell_type": "markdown",
   "metadata": {}
  },
  {
   "cell_type": "code",
   "execution_count": 22,
   "metadata": {},
   "outputs": [],
   "source": [
    "# create our decorator function\n",
    "from functools import wraps\n",
    "import datetime as dt\n",
    "\n",
    "def log_step(func):\n",
    "    @wraps(func)\n",
    "    def wrapper(*args, **kwargs):\n",
    "        tic = dt.datetime.now()\n",
    "        result = func(*args, **kwargs)\n",
    "        time_taken = str(dt.datetime.now() - tic)\n",
    "        print(f'just ran step {func.__name__}, shape={result.shape} which took {time_taken}s')\n",
    "        return result\n",
    "    return wrapper"
   ]
  },
  {
   "cell_type": "code",
   "execution_count": 23,
   "metadata": {
    "tags": []
   },
   "outputs": [
    {
     "output_type": "stream",
     "name": "stdout",
     "text": "just ran step start_pipeline, shape=(1330, 6) which took 0:00:00.000207s\njust ran step set_dtypes, shape=(1330, 6) which took 0:00:00.006433s\njust ran step remove_outliers, shape=(864, 6) which took 0:00:00.017203s\n"
    },
    {
     "output_type": "execute_result",
     "data": {
      "text/plain": "           date currency_code  ... dollar_ex  dollar_price\n0    2000-04-01           ARS  ...   1.00000      2.500000\n28   2001-04-01           ARS  ...   1.00000      2.500000\n56   2002-04-01           ARS  ...   3.13000      0.798722\n88   2003-04-01           ARS  ...   2.88000      1.423611\n119  2004-05-01           ARS  ...   2.95000      1.477966\n...         ...           ...  ...       ...           ...\n1105 2018-01-01           ZAR  ...  12.25815      2.447351\n1161 2018-07-01           ZAR  ...  13.36190      2.320029\n1217 2019-01-01           ZAR  ...  13.86750      2.235443\n1273 2019-07-09           ZAR  ...  14.17500      2.186949\n1329 2020-01-14           ZAR  ...  14.39100      2.154124\n\n[864 rows x 6 columns]",
      "text/html": "<div>\n<style scoped>\n    .dataframe tbody tr th:only-of-type {\n        vertical-align: middle;\n    }\n\n    .dataframe tbody tr th {\n        vertical-align: top;\n    }\n\n    .dataframe thead th {\n        text-align: right;\n    }\n</style>\n<table border=\"1\" class=\"dataframe\">\n  <thead>\n    <tr style=\"text-align: right;\">\n      <th></th>\n      <th>date</th>\n      <th>currency_code</th>\n      <th>name</th>\n      <th>local_price</th>\n      <th>dollar_ex</th>\n      <th>dollar_price</th>\n    </tr>\n  </thead>\n  <tbody>\n    <tr>\n      <th>0</th>\n      <td>2000-04-01</td>\n      <td>ARS</td>\n      <td>Argentina</td>\n      <td>2.50</td>\n      <td>1.00000</td>\n      <td>2.500000</td>\n    </tr>\n    <tr>\n      <th>28</th>\n      <td>2001-04-01</td>\n      <td>ARS</td>\n      <td>Argentina</td>\n      <td>2.50</td>\n      <td>1.00000</td>\n      <td>2.500000</td>\n    </tr>\n    <tr>\n      <th>56</th>\n      <td>2002-04-01</td>\n      <td>ARS</td>\n      <td>Argentina</td>\n      <td>2.50</td>\n      <td>3.13000</td>\n      <td>0.798722</td>\n    </tr>\n    <tr>\n      <th>88</th>\n      <td>2003-04-01</td>\n      <td>ARS</td>\n      <td>Argentina</td>\n      <td>4.10</td>\n      <td>2.88000</td>\n      <td>1.423611</td>\n    </tr>\n    <tr>\n      <th>119</th>\n      <td>2004-05-01</td>\n      <td>ARS</td>\n      <td>Argentina</td>\n      <td>4.36</td>\n      <td>2.95000</td>\n      <td>1.477966</td>\n    </tr>\n    <tr>\n      <th>...</th>\n      <td>...</td>\n      <td>...</td>\n      <td>...</td>\n      <td>...</td>\n      <td>...</td>\n      <td>...</td>\n    </tr>\n    <tr>\n      <th>1105</th>\n      <td>2018-01-01</td>\n      <td>ZAR</td>\n      <td>South Africa</td>\n      <td>30.00</td>\n      <td>12.25815</td>\n      <td>2.447351</td>\n    </tr>\n    <tr>\n      <th>1161</th>\n      <td>2018-07-01</td>\n      <td>ZAR</td>\n      <td>South Africa</td>\n      <td>31.00</td>\n      <td>13.36190</td>\n      <td>2.320029</td>\n    </tr>\n    <tr>\n      <th>1217</th>\n      <td>2019-01-01</td>\n      <td>ZAR</td>\n      <td>South Africa</td>\n      <td>31.00</td>\n      <td>13.86750</td>\n      <td>2.235443</td>\n    </tr>\n    <tr>\n      <th>1273</th>\n      <td>2019-07-09</td>\n      <td>ZAR</td>\n      <td>South Africa</td>\n      <td>31.00</td>\n      <td>14.17500</td>\n      <td>2.186949</td>\n    </tr>\n    <tr>\n      <th>1329</th>\n      <td>2020-01-14</td>\n      <td>ZAR</td>\n      <td>South Africa</td>\n      <td>31.00</td>\n      <td>14.39100</td>\n      <td>2.154124</td>\n    </tr>\n  </tbody>\n</table>\n<p>864 rows × 6 columns</p>\n</div>"
     },
     "metadata": {},
     "execution_count": 23
    }
   ],
   "source": [
    "@log_step\n",
    "def start_pipeline(dataf):\n",
    "    return dataf.copy()\n",
    "\n",
    "@log_step\n",
    "def set_dtypes(dataf: pd.DataFrame) -> pd.DataFrame:\n",
    "    return (dataf\n",
    "    .assign(date=lambda d: pd.to_datetime(d['date']))\n",
    "    .sort_values(['currency_code', 'date'])\n",
    "    )\n",
    "@log_step\n",
    "def remove_outliers(dataf: pd.DataFrame, min_row_country:int =32) -> pd.DataFrame:\n",
    "    countries = (dataf\n",
    "    .groupby('currency_code')\n",
    "    .agg(n=('name', 'count'))\n",
    "    .loc[lambda d: d['n'] >= min_row_country]\n",
    "    .index\n",
    "    )\n",
    "    return (dataf\n",
    "    .loc[lambda d: d['currency_code'].isin(countries)])\n",
    "\n",
    "# applying pipes, now including logging\n",
    "(df\n",
    ".pipe(start_pipeline)\n",
    ".pipe(set_dtypes)\n",
    ".pipe(remove_outliers, min_row_country=32)\n",
    ")"
   ]
  },
  {
   "cell_type": "code",
   "execution_count": null,
   "metadata": {},
   "outputs": [],
   "source": [
    "_________________________\n",
    "## *Logs*\n",
    "_________________________"
   ]
  }
 ]
}