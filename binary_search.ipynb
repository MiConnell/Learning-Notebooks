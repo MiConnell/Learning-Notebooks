{
 "metadata": {
  "language_info": {
   "codemirror_mode": {
    "name": "ipython",
    "version": 3
   },
   "file_extension": ".py",
   "mimetype": "text/x-python",
   "name": "python",
   "nbconvert_exporter": "python",
   "pygments_lexer": "ipython3",
   "version": "3.8.5-final"
  },
  "orig_nbformat": 2,
  "kernelspec": {
   "name": "Python 3.8.5 64-bit ('3.8.5')",
   "display_name": "Python 3.8.5 64-bit ('3.8.5')",
   "metadata": {
    "interpreter": {
     "hash": "1dac8109892ddd53880a03e1b3caf22888318125b54fed92119cfe03a500281e"
    }
   }
  }
 },
 "nbformat": 4,
 "nbformat_minor": 2,
 "cells": [
  {
   "source": [
    "# Binary Search"
   ],
   "cell_type": "markdown",
   "metadata": {}
  },
  {
   "source": [
    "- Quickly find a number in a sorted array or dictionary\n",
    "- Even though the idea is simple, you must be careful implementing it"
   ],
   "cell_type": "markdown",
   "metadata": {}
  },
  {
   "source": [
    "## Basic Idea\n",
    "```Python\n",
    "arr = [2, 3, 5, 6, 8, 10, 12]\n",
    "target = 10\n",
    "```\n",
    "\n",
    "We're given an array of length 7 with sorted elements and target of 10. The array has index 0-6. We want to find the position of the target within the array.\n",
    "Start with the middle element (6 in this case). If that value matches the target, return it.\n",
    "\n",
    "If it is less than the target then we know it is to the right and has an index value between 4 and 6.\n",
    "\n",
    "We then again ask about the middle element in the elements to the right of the initial 6. `[8, 10, 12]` in this case. This happens to be the target so we would return index `5`\n",
    "\n",
    "If the target 9 instead of 10, then we will end up out of range with an empty search range and know that it is not found in the list.\n"
   ],
   "cell_type": "markdown",
   "metadata": {}
  },
  {
   "source": [
    "## Finding the initial middle element\n",
    "\n",
    "Many people use the formula `m = (L + R) / 2` where m is the middle, l is the left, and r is the right. `floor` should be used in case that does not result in an int.\n",
    "\n",
    "This may result in an overflow if l and r are too large (in the billions). This formula should never be used for that reason.\n",
    "\n",
    "A better formula is `m = L + (R - L) / 2` which will never overflow"
   ],
   "cell_type": "markdown",
   "metadata": {}
  },
  {
   "cell_type": "code",
   "execution_count": 17,
   "metadata": {
    "tags": []
   },
   "outputs": [
    {
     "output_type": "stream",
     "name": "stdout",
     "text": "1.73 µs ± 30.9 ns per loop (mean ± std. dev. of 7 runs, 100000 loops each)\n"
    },
    {
     "output_type": "execute_result",
     "data": {
      "text/plain": "(5, -1)"
     },
     "metadata": {},
     "execution_count": 17
    }
   ],
   "source": [
    "def bin_search(a: list, target: int) -> int:\n",
    "    L = 0  # left is the first index value\n",
    "    R = a.index(a[-1])  # right is the last index value\n",
    "    while L <= R:\n",
    "        mid = L + (R - L) // 2  # find the middle element using int division - returns floor\n",
    "        if a[mid] == target:  # if we find a match immediately return that index value\n",
    "            return mid\n",
    "        if a[mid] < target:  # if the search value is less than the target we know we should look to the left\n",
    "            L = mid + 1  # update L to be the element to the right of mid\n",
    "        else:  # we should look to the right otherwise\n",
    "            R = mid - 1  # update R to be the element to the left of mid\n",
    "    return -1  # if no matches are found\n",
    "\n",
    "%timeit bin_search([2, 3, 5, 6, 8, 10, 12], 10), bin_search([2, 3, 5, 6, 8, 10, 12], 9)\n",
    "bin_search([2, 3, 5, 6, 8, 10, 12], 10), bin_search([2, 3, 5, 6, 8, 10, 12], 9)"
   ]
  },
  {
   "source": [
    "## Working with objects other than lists\n",
    "\n",
    "For example, checking if `x` is a square\n",
    "\n",
    "16 -> yes\n",
    "\n",
    "20 -> no\n",
    "\n",
    "binary search the square root of `x`\n",
    " ```python\n",
    " [0, x]\n",
    " # check if m^2 == x\n",
    " ```\n",
    " if m<sup>2</sup> is too large, look to the left, if m<sup>2</sup> is too small, look to the right.\n"
   ],
   "cell_type": "markdown",
   "metadata": {}
  },
  {
   "source": [
    "## Complexity\n",
    "\n",
    "for each step in the algorithm, we halve the range.\n",
    "Assuming `N` is the length of the array:\n",
    "\n",
    "N -> N/2 -> N/4...-> 1 -> 0\n",
    "\n",
    "The time complexity of the algorithm can be expressed with O(log<sub>2</sub>(N))"
   ],
   "cell_type": "markdown",
   "metadata": {}
  },
  {
   "source": [
    "## Lower Bound\n",
    "\n",
    "Find the first value >= x\n",
    "\n",
    "```python\n",
    "x = 4\n",
    "[2, 3, 5, 6, 8, 10, 12]\n",
    "# should return 5\n",
    "```\n",
    "\n",
    "The initial implementation would return the index value of 6 in this example, as it meets the criteria of being >= 4.\n",
    "\n",
    "We can't just return the index value of 6 because we want the *first* such value\n",
    "\n",
    "one solution would be to store each search result in a variable `ans`\n",
    "\n",
    "```python\n",
    "ans = 6\n",
    "```\n",
    "search to the left and ask if the middle element fits the criteria, in this case 3.\n",
    "\n",
    "It does not, so we move to the right. 5 is a better fit than 6, so we update `ans` to be 5.\n",
    "\n",
    "We never terminate the while loop, but after it is complete, we just return the varialbe stored at `ans`\n",
    "\n"
   ],
   "cell_type": "markdown",
   "metadata": {}
  },
  {
   "source": [
    "## Lower Bound Implementation"
   ],
   "cell_type": "markdown",
   "metadata": {}
  },
  {
   "cell_type": "code",
   "execution_count": 19,
   "metadata": {
    "tags": []
   },
   "outputs": [
    {
     "output_type": "stream",
     "name": "stdout",
     "text": "1.85 µs ± 173 ns per loop (mean ± std. dev. of 7 runs, 100000 loops each)\n"
    },
    {
     "output_type": "execute_result",
     "data": {
      "text/plain": "(5, 5)"
     },
     "metadata": {},
     "execution_count": 19
    }
   ],
   "source": [
    "def bin_search_lb(a: list, target: int) -> int:\n",
    "    L = 0\n",
    "    R = a.index(a[-1])\n",
    "    ans = -1\n",
    "    while L <= R:\n",
    "        mid = L + (R - L) // 2\n",
    "        if a[mid] >= target:  # previously ==\n",
    "            ans = mid  # previously return mid\n",
    "            R = mid - 1\n",
    "        else:\n",
    "            L = mid + 1\n",
    "    return ans\n",
    "\n",
    "%timeit bin_search_lb([2, 3, 5, 6, 8, 10, 12], 10), bin_search_lb([2, 3, 5, 6, 8, 10, 12], 9)\n",
    "bin_search_lb([2, 3, 5, 6, 8, 10, 12], 10), bin_search_lb([2, 3, 5, 6, 8, 10, 12], 9)"
   ]
  },
  {
   "source": [
    "## Rotated (shifted) array\n",
    "\n",
    "sombody shifted a sorted array, find the smallest element\n",
    "\n",
    "original 2, 3, 6, 7, 9, 15, 19\n",
    "\n",
    "shifted 6, 7, 9, 15, 19, 2, 3\n",
    "\n",
    "Python fortunately has a `sorted` function to take care of this\n",
    "\n",
    "```python\n",
    "\n",
    "def bin_search_shifted(a: list, target: int) -> int:\n",
    "    a = sorted(a)\n",
    "    ...\n",
    "```"
   ],
   "cell_type": "markdown",
   "metadata": {}
  },
  {
   "source": [
    "## Finding square root with binary search\n",
    "finding the square root of 2 for example, we would want to do a binary search on all numbers between 0 and the target (2)\n",
    "\n",
    "```python\n",
    "[0, 2]\n",
    "```\n",
    "1<sup>2</sup> < 2\n",
    "```python\n",
    "[1, 2]\n",
    "```\n",
    "1.5<sup>2</sup> > 2\n",
    "```python\n",
    "[1, 1.5]\n",
    "```\n",
    "1.25<sup>2</sup> < 2\n",
    "```python\n",
    "[1.25, 1.5]\n",
    "```"
   ],
   "cell_type": "markdown",
   "metadata": {}
  },
  {
   "cell_type": "code",
   "execution_count": 29,
   "metadata": {},
   "outputs": [
    {
     "output_type": "execute_result",
     "data": {
      "text/plain": "1.5"
     },
     "metadata": {},
     "execution_count": 29
    }
   ],
   "source": [
    "import sys\n",
    "eps = sys.float_info.epsilon\n",
    "\n",
    "def bin_search_sqrt(target: int) -> float:\n",
    "    L = 0\n",
    "    R = target\n",
    "    while R - L > eps:\n",
    "        mid = L + (R - L) / 2\n",
    "        if mid**2 < target:\n",
    "            L = mid\n",
    "        else:\n",
    "            R = mid\n",
    "        return L + ( R - L) / 2\n",
    "\n",
    "bin_search_sqrt(2)\n"
   ]
  }
 ]
}
