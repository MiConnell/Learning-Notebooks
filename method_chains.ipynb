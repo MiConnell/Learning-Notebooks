{
 "metadata": {
  "language_info": {
   "codemirror_mode": {
    "name": "ipython",
    "version": 3
   },
   "file_extension": ".py",
   "mimetype": "text/x-python",
   "name": "python",
   "nbconvert_exporter": "python",
   "pygments_lexer": "ipython3",
   "version": "3.8.5-final"
  },
  "orig_nbformat": 2,
  "kernelspec": {
   "name": "python_defaultSpec_1599858550390",
   "display_name": "Python 3.8.5 64-bit"
  }
 },
 "nbformat": 4,
 "nbformat_minor": 2,
 "cells": [
  {
   "source": [
    "# Method Chains"
   ],
   "cell_type": "markdown",
   "metadata": {}
  },
  {
   "cell_type": "code",
   "execution_count": 2,
   "metadata": {},
   "outputs": [],
   "source": [
    "import json\n",
    "import pathlib"
   ]
  },
  {
   "cell_type": "code",
   "execution_count": 7,
   "metadata": {},
   "outputs": [],
   "source": [
    "poke_dict = json.loads(pathlib.Path(\"./datasets/json/pokemon.json\").read_text())"
   ]
  },
  {
   "cell_type": "code",
   "execution_count": 8,
   "metadata": {},
   "outputs": [
    {
     "output_type": "execute_result",
     "data": {
      "text/plain": "[{'name': 'Bulbasaur',\n  'type': ['Grass', 'Poison'],\n  'total': 318,\n  'hp': 45,\n  'attack': 49},\n {'name': 'Ivysaur',\n  'type': ['Grass', 'Poison'],\n  'total': 405,\n  'hp': 60,\n  'attack': 62},\n {'name': 'Venusaur',\n  'type': ['Grass', 'Poison'],\n  'total': 525,\n  'hp': 80,\n  'attack': 82}]"
     },
     "metadata": {},
     "execution_count": 8
    }
   ],
   "source": [
    "poke_dict[:3]"
   ]
  },
  {
   "cell_type": "code",
   "execution_count": null,
   "metadata": {},
   "outputs": [],
   "source": []
  }
 ]
}