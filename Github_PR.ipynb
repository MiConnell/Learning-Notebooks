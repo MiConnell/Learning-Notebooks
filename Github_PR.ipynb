{
 "metadata": {
  "language_info": {
   "codemirror_mode": {
    "name": "ipython",
    "version": 3
   },
   "file_extension": ".py",
   "mimetype": "text/x-python",
   "name": "python",
   "nbconvert_exporter": "python",
   "pygments_lexer": "ipython3",
   "version": 3
  },
  "orig_nbformat": 2
 },
 "nbformat": 4,
 "nbformat_minor": 2,
 "cells": [
  {
   "source": [
    "# Creating a Github PR"
   ],
   "cell_type": "markdown",
   "metadata": {}
  },
  {
   "source": [
    "### Navigate to repo that needs a PR on [github](https://github.com)\n",
    "### Fork the project\n",
    "- This will duplicate the project into your own namespace\n",
    "### Clone the forked repo\n",
    "- Copy the URL from the green `clone or download` button\n",
    "- Navigate to a directory you want the repository cloned locally\n",
    "- cd into the new cloned directory\n",
    "### Create a new branch\n",
    "- It's best to do all feature work on a `feature` branch\n",
    "\n",
    "`git checkout origin/master -b feature_branch`\n",
    "### Make the adjustments to the code\n",
    "### Run a diff on the code to preview the change\n",
    "### Check the git status\n",
    "### Stage the file\n",
    "- git add `modified_file`\n",
    "### Commit\n",
    "- `git commit -m 'adding feature'`\n",
    "- Make sure to adhere to the contributing guidelines\n",
    "### Check the status\n",
    "- `git status`\n",
    "- This will typically show that we're one commit ahead of origin/master\n",
    "### Push the branch to make the pull request\n",
    "- `git push origin HEAD`\n",
    "    - HEAD is shorthand for the current checked out branch\n",
    "- This pushes the branch to the remote\n",
    "- Git will suggest a url to make a pull request\n",
    "### Create the Pull Request\n",
    "- Open the suggested url to create the PR\n",
    "- Review the diff online to double check the changes\n",
    "- Edit the commit message and notes ensuring they adhere to the contributing guidelines\n",
    "- Click the create button\n",
    "### If all looks good, the pull request should be merged!\n"
   ],
   "cell_type": "markdown",
   "metadata": {}
  },
  {
   "source": [
    "These notes are from [this video](youtube.com/watch?v=cysuuUtbC6E&)"
   ],
   "cell_type": "markdown",
   "metadata": {}
  }
 ]
}