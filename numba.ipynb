{
 "metadata": {
  "language_info": {
   "codemirror_mode": {
    "name": "ipython",
    "version": 3
   },
   "file_extension": ".py",
   "mimetype": "text/x-python",
   "name": "python",
   "nbconvert_exporter": "python",
   "pygments_lexer": "ipython3",
   "version": "3.8.5-final"
  },
  "orig_nbformat": 2,
  "kernelspec": {
   "name": "Python 3.8.5 64-bit ('3.8.5')",
   "display_name": "Python 3.8.5 64-bit ('3.8.5')",
   "metadata": {
    "interpreter": {
     "hash": "1dac8109892ddd53880a03e1b3caf22888318125b54fed92119cfe03a500281e"
    }
   }
  }
 },
 "nbformat": 4,
 "nbformat_minor": 2,
 "cells": [
  {
   "source": [
    "# Numba"
   ],
   "cell_type": "markdown",
   "metadata": {}
  },
  {
   "source": [
    "_________________________\n",
    "## *Intro*\n",
    "_________________________"
   ],
   "cell_type": "markdown",
   "metadata": {}
  },
  {
   "source": [
    "Numba does something that we may not be used to in typical python"
   ],
   "cell_type": "markdown",
   "metadata": {}
  },
  {
   "cell_type": "code",
   "execution_count": 2,
   "metadata": {},
   "outputs": [],
   "source": [
    "def func_one(n):\n",
    "    result = 0\n",
    "    for i in range(n):\n",
    "        squared = n * n\n",
    "        result += squared\n",
    "    return result\n",
    "\n",
    "def func_two(n):\n",
    "    result = 0\n",
    "    squared = n * n\n",
    "    for i in range(n):\n",
    "        result += squared\n",
    "    return result\n",
    "\n"
   ]
  },
  {
   "source": [
    "these two functions demonstrate this\n",
    "The one core difference is function one has the square calculation inside the for loop and function two calculates it outside the for loop\n",
    "\n",
    "Let's time the functions\n"
   ],
   "cell_type": "markdown",
   "metadata": {}
  },
  {
   "cell_type": "code",
   "execution_count": 3,
   "metadata": {},
   "outputs": [
    {
     "output_type": "stream",
     "name": "stdout",
     "text": [
      "833 µs ± 16.6 µs per loop (mean ± std. dev. of 7 runs, 1000 loops each)\n"
     ]
    }
   ],
   "source": [
    "%%timeit\n",
    "func_one(10000)"
   ]
  },
  {
   "cell_type": "code",
   "execution_count": 4,
   "metadata": {},
   "outputs": [
    {
     "output_type": "stream",
     "name": "stdout",
     "text": [
      "521 µs ± 13.8 µs per loop (mean ± std. dev. of 7 runs, 1000 loops each)\n"
     ]
    }
   ],
   "source": [
    "%%timeit\n",
    "func_two(10000)"
   ]
  },
  {
   "source": [
    "Let's now make some edits using `numba` and see the performance differences"
   ],
   "cell_type": "markdown",
   "metadata": {}
  },
  {
   "cell_type": "code",
   "execution_count": 5,
   "metadata": {},
   "outputs": [],
   "source": [
    "import numba as nb\n",
    "\n",
    "@nb.njit\n",
    "def func_one(n):\n",
    "    result = 0\n",
    "    for i in range(n):\n",
    "        squared = n * n\n",
    "        result += squared\n",
    "    return result\n",
    "\n",
    "@nb.njit\n",
    "def func_two(n):\n",
    "    result = 0\n",
    "    squared = n * n\n",
    "    for i in range(n):\n",
    "        result += squared\n",
    "    return result\n",
    "\n",
    "func_one(1); func_two(2);"
   ]
  },
  {
   "cell_type": "code",
   "execution_count": 6,
   "metadata": {},
   "outputs": [
    {
     "output_type": "stream",
     "name": "stdout",
     "text": [
      "140 ns ± 2.82 ns per loop (mean ± std. dev. of 7 runs, 10000000 loops each)\n"
     ]
    }
   ],
   "source": [
    "%%timeit\n",
    "func_one(10000)"
   ]
  },
  {
   "cell_type": "code",
   "execution_count": 7,
   "metadata": {},
   "outputs": [
    {
     "output_type": "stream",
     "name": "stdout",
     "text": [
      "142 ns ± 1.64 ns per loop (mean ± std. dev. of 7 runs, 10000000 loops each)\n"
     ]
    }
   ],
   "source": [
    "%%timeit\n",
    "func_two(10000)"
   ]
  },
  {
   "source": [
    "These now run in nanoseconds instead of microseconds\n",
    "\n",
    "Both of them are also about the same speed\n",
    "\n"
   ],
   "cell_type": "markdown",
   "metadata": {}
  },
  {
   "source": [
    "Numba applies a just-in-time compiler to analyze and convert the functions into more efficient code\n",
    "\n",
    "* The compiler can make assumptions about the type of variables\n",
    "* What is happening in the example above is the compiler realizes that the `squared = n * n` in the for loop is just a constant that can be moved outside the loop"
   ],
   "cell_type": "markdown",
   "metadata": {}
  },
  {
   "source": [
    "_________________________\n",
    "## *compile*\n",
    "_________________________"
   ],
   "cell_type": "markdown",
   "metadata": {}
  },
  {
   "source": [
    "*Not everything is faster!*\n",
    "\n",
    "When you run this the first time, numba actually makes it slower because it needs to compile\n",
    "\n",
    "Numba also doesn't know all options for all python code out there, so it can't always improve performance"
   ],
   "cell_type": "markdown",
   "metadata": {}
  },
  {
   "source": [
    "Numba can only speed up a subset of python code\n"
   ],
   "cell_type": "markdown",
   "metadata": {}
  },
  {
   "cell_type": "code",
   "execution_count": 8,
   "metadata": {},
   "outputs": [],
   "source": [
    "@nb.njit\n",
    "def func_test(n):\n",
    "    result = {}\n",
    "    for i in range(n):\n",
    "        new_dict = {'a' * n: n}\n",
    "        result[squared] = new_dict\n",
    "    return result"
   ]
  },
  {
   "cell_type": "code",
   "execution_count": 9,
   "metadata": {},
   "outputs": [
    {
     "output_type": "error",
     "ename": "TypingError",
     "evalue": "Failed in nopython mode pipeline (step: nopython frontend)\n\u001b[1mNameError: name 'squared' is not defined\u001b[0m",
     "traceback": [
      "\u001b[0;31m---------------------------------------------------------------------------\u001b[0m",
      "\u001b[0;31mTypingError\u001b[0m                               Traceback (most recent call last)",
      "\u001b[0;32m<ipython-input-9-a7d4756f2e5f>\u001b[0m in \u001b[0;36m<module>\u001b[0;34m\u001b[0m\n\u001b[0;32m----> 1\u001b[0;31m \u001b[0mfunc_test\u001b[0m\u001b[0;34m(\u001b[0m\u001b[0;36m10\u001b[0m\u001b[0;34m)\u001b[0m\u001b[0;34m\u001b[0m\u001b[0;34m\u001b[0m\u001b[0m\n\u001b[0m",
      "\u001b[0;32m~/.pyenv/versions/3.8.5/lib/python3.8/site-packages/numba/core/dispatcher.py\u001b[0m in \u001b[0;36m_compile_for_args\u001b[0;34m(self, *args, **kws)\u001b[0m\n\u001b[1;32m    413\u001b[0m                 \u001b[0me\u001b[0m\u001b[0;34m.\u001b[0m\u001b[0mpatch_message\u001b[0m\u001b[0;34m(\u001b[0m\u001b[0mmsg\u001b[0m\u001b[0;34m)\u001b[0m\u001b[0;34m\u001b[0m\u001b[0;34m\u001b[0m\u001b[0m\n\u001b[1;32m    414\u001b[0m \u001b[0;34m\u001b[0m\u001b[0m\n\u001b[0;32m--> 415\u001b[0;31m             \u001b[0merror_rewrite\u001b[0m\u001b[0;34m(\u001b[0m\u001b[0me\u001b[0m\u001b[0;34m,\u001b[0m \u001b[0;34m'typing'\u001b[0m\u001b[0;34m)\u001b[0m\u001b[0;34m\u001b[0m\u001b[0;34m\u001b[0m\u001b[0m\n\u001b[0m\u001b[1;32m    416\u001b[0m         \u001b[0;32mexcept\u001b[0m \u001b[0merrors\u001b[0m\u001b[0;34m.\u001b[0m\u001b[0mUnsupportedError\u001b[0m \u001b[0;32mas\u001b[0m \u001b[0me\u001b[0m\u001b[0;34m:\u001b[0m\u001b[0;34m\u001b[0m\u001b[0;34m\u001b[0m\u001b[0m\n\u001b[1;32m    417\u001b[0m             \u001b[0;31m# Something unsupported is present in the user code, add help info\u001b[0m\u001b[0;34m\u001b[0m\u001b[0;34m\u001b[0m\u001b[0;34m\u001b[0m\u001b[0m\n",
      "\u001b[0;32m~/.pyenv/versions/3.8.5/lib/python3.8/site-packages/numba/core/dispatcher.py\u001b[0m in \u001b[0;36merror_rewrite\u001b[0;34m(e, issue_type)\u001b[0m\n\u001b[1;32m    356\u001b[0m                 \u001b[0;32mraise\u001b[0m \u001b[0me\u001b[0m\u001b[0;34m\u001b[0m\u001b[0;34m\u001b[0m\u001b[0m\n\u001b[1;32m    357\u001b[0m             \u001b[0;32melse\u001b[0m\u001b[0;34m:\u001b[0m\u001b[0;34m\u001b[0m\u001b[0;34m\u001b[0m\u001b[0m\n\u001b[0;32m--> 358\u001b[0;31m                 \u001b[0mreraise\u001b[0m\u001b[0;34m(\u001b[0m\u001b[0mtype\u001b[0m\u001b[0;34m(\u001b[0m\u001b[0me\u001b[0m\u001b[0;34m)\u001b[0m\u001b[0;34m,\u001b[0m \u001b[0me\u001b[0m\u001b[0;34m,\u001b[0m \u001b[0;32mNone\u001b[0m\u001b[0;34m)\u001b[0m\u001b[0;34m\u001b[0m\u001b[0;34m\u001b[0m\u001b[0m\n\u001b[0m\u001b[1;32m    359\u001b[0m \u001b[0;34m\u001b[0m\u001b[0m\n\u001b[1;32m    360\u001b[0m         \u001b[0margtypes\u001b[0m \u001b[0;34m=\u001b[0m \u001b[0;34m[\u001b[0m\u001b[0;34m]\u001b[0m\u001b[0;34m\u001b[0m\u001b[0;34m\u001b[0m\u001b[0m\n",
      "\u001b[0;32m~/.pyenv/versions/3.8.5/lib/python3.8/site-packages/numba/core/utils.py\u001b[0m in \u001b[0;36mreraise\u001b[0;34m(tp, value, tb)\u001b[0m\n\u001b[1;32m     78\u001b[0m         \u001b[0mvalue\u001b[0m \u001b[0;34m=\u001b[0m \u001b[0mtp\u001b[0m\u001b[0;34m(\u001b[0m\u001b[0;34m)\u001b[0m\u001b[0;34m\u001b[0m\u001b[0;34m\u001b[0m\u001b[0m\n\u001b[1;32m     79\u001b[0m     \u001b[0;32mif\u001b[0m \u001b[0mvalue\u001b[0m\u001b[0;34m.\u001b[0m\u001b[0m__traceback__\u001b[0m \u001b[0;32mis\u001b[0m \u001b[0;32mnot\u001b[0m \u001b[0mtb\u001b[0m\u001b[0;34m:\u001b[0m\u001b[0;34m\u001b[0m\u001b[0;34m\u001b[0m\u001b[0m\n\u001b[0;32m---> 80\u001b[0;31m         \u001b[0;32mraise\u001b[0m \u001b[0mvalue\u001b[0m\u001b[0;34m.\u001b[0m\u001b[0mwith_traceback\u001b[0m\u001b[0;34m(\u001b[0m\u001b[0mtb\u001b[0m\u001b[0;34m)\u001b[0m\u001b[0;34m\u001b[0m\u001b[0;34m\u001b[0m\u001b[0m\n\u001b[0m\u001b[1;32m     81\u001b[0m     \u001b[0;32mraise\u001b[0m \u001b[0mvalue\u001b[0m\u001b[0;34m\u001b[0m\u001b[0;34m\u001b[0m\u001b[0m\n\u001b[1;32m     82\u001b[0m \u001b[0;34m\u001b[0m\u001b[0m\n",
      "\u001b[0;31mTypingError\u001b[0m: Failed in nopython mode pipeline (step: nopython frontend)\n\u001b[1mNameError: name 'squared' is not defined\u001b[0m"
     ]
    }
   ],
   "source": [
    "func_test(10)"
   ]
  },
  {
   "source": [
    "Numba is built for numeric code so we should limit ourselves to that if we're going to use it"
   ],
   "cell_type": "markdown",
   "metadata": {}
  },
  {
   "source": [
    "_________________________\n",
    "## *benchmark*\n",
    "_________________________"
   ],
   "cell_type": "markdown",
   "metadata": {}
  },
  {
   "source": [
    "## Numba Settings"
   ],
   "cell_type": "markdown",
   "metadata": {}
  },
  {
   "cell_type": "code",
   "execution_count": 18,
   "metadata": {},
   "outputs": [],
   "source": [
    "import numpy as np"
   ]
  },
  {
   "cell_type": "code",
   "execution_count": 19,
   "metadata": {},
   "outputs": [],
   "source": [
    "@nb.njit()\n",
    "def hypot_n(x, y):\n",
    "    return (x**2 + y**2)**0.5\n",
    "\n",
    "@nb.njit(parallel=True, fastmath=True)\n",
    "def hypot_p(x, y):\n",
    "    return (x**2 + y**2)**0.5"
   ]
  },
  {
   "source": [
    "the `parallel=True` flag means that if you pass a numpy array and the operation is parallizable, it will try to use more than one core\n",
    "\n",
    "the `fastmath` flag is a little more involved. Documentation is [here](https://llvm.org/docs/LangRef.html#fast-math-flags)"
   ],
   "cell_type": "markdown",
   "metadata": {}
  },
  {
   "cell_type": "code",
   "execution_count": 20,
   "metadata": {},
   "outputs": [
    {
     "output_type": "execute_result",
     "data": {
      "text/plain": [
       "array([[0.49733694, 1.03534285, 0.93989041, ..., 0.2836821 , 0.68839745,\n",
       "        0.64224657],\n",
       "       [1.37621328, 1.00269571, 0.67004165, ..., 0.85373208, 0.78547239,\n",
       "        0.86233801],\n",
       "       [0.04557801, 0.51159555, 0.58555236, ..., 0.06208591, 0.26993877,\n",
       "        0.68370392],\n",
       "       ...,\n",
       "       [0.14040431, 0.99945322, 0.57574555, ..., 0.39669118, 1.21998116,\n",
       "        0.50143965],\n",
       "       [0.73949094, 0.68065982, 0.61357355, ..., 0.52962312, 0.17424656,\n",
       "        0.35544613],\n",
       "       [0.8973539 , 0.87803393, 0.74318447, ..., 1.18239089, 0.96190928,\n",
       "        1.17236966]])"
      ]
     },
     "metadata": {},
     "execution_count": 20
    }
   ],
   "source": [
    "r1, r2 = np.random.random(size=(2000, 2000)), np.random.random(size=(2000, 2000))\n",
    "hypot_n(r1, r2); hypot_p(r1, r2)"
   ]
  },
  {
   "cell_type": "code",
   "execution_count": 21,
   "metadata": {},
   "outputs": [
    {
     "output_type": "stream",
     "name": "stdout",
     "text": [
      "12 ms ± 191 µs per loop (mean ± std. dev. of 7 runs, 100 loops each)\n"
     ]
    }
   ],
   "source": [
    "%%timeit\n",
    "hypot_n(r1, r2)"
   ]
  },
  {
   "cell_type": "code",
   "execution_count": 22,
   "metadata": {},
   "outputs": [
    {
     "output_type": "stream",
     "name": "stdout",
     "text": [
      "8.07 ms ± 51.5 µs per loop (mean ± std. dev. of 7 runs, 100 loops each)\n"
     ]
    }
   ],
   "source": [
    "%%timeit\n",
    "hypot_p(r1, r2)"
   ]
  },
  {
   "source": [
    "Let's see how long this takes without numba"
   ],
   "cell_type": "markdown",
   "metadata": {}
  },
  {
   "cell_type": "code",
   "execution_count": 23,
   "metadata": {},
   "outputs": [
    {
     "output_type": "stream",
     "name": "stdout",
     "text": [
      "27.8 ms ± 254 µs per loop (mean ± std. dev. of 7 runs, 10 loops each)\n"
     ]
    }
   ],
   "source": [
    "%%timeit\n",
    "(r1**2 + r2**2)**0.5"
   ]
  },
  {
   "source": [
    "We can see that this jit compiler can even be faster than numpy at times"
   ],
   "cell_type": "markdown",
   "metadata": {}
  },
  {
   "source": [
    "_________________________\n",
    "## *types*\n",
    "_________________________"
   ],
   "cell_type": "markdown",
   "metadata": {}
  },
  {
   "source": [
    "We can speed up the code even more by being explicit about the types of inputs it can accept"
   ],
   "cell_type": "markdown",
   "metadata": {}
  },
  {
   "cell_type": "code",
   "execution_count": 24,
   "metadata": {},
   "outputs": [
    {
     "output_type": "execute_result",
     "data": {
      "text/plain": [
       "(array(float64, 2d, A), array(float64, 2d, A)) -> array(float64, 2d, A)"
      ]
     },
     "metadata": {},
     "execution_count": 24
    }
   ],
   "source": [
    "from numba import float64\n",
    "\n",
    "float64[:, :](float64[:, :], float64[:, :])"
   ]
  },
  {
   "source": [
    "The above signature definition is what we're now feeding as the first argument to the nb decorator"
   ],
   "cell_type": "markdown",
   "metadata": {}
  },
  {
   "source": [
    "We've imported the float64 type\n",
    "the above accepts two-dimensional numpy arrays"
   ],
   "cell_type": "markdown",
   "metadata": {}
  },
  {
   "cell_type": "code",
   "execution_count": 26,
   "metadata": {},
   "outputs": [],
   "source": [
    "@nb.njit(float64[:, :](float64[:, :], float64[:, :]), parallel=True, fastmath=True)\n",
    "def hypot_t(x, y):\n",
    "    return (x**2 + y**2)**0.5\n",
    "\n",
    "hypot_t(r1, r2);"
   ]
  },
  {
   "cell_type": "code",
   "execution_count": 27,
   "metadata": {},
   "outputs": [
    {
     "output_type": "stream",
     "name": "stdout",
     "text": [
      "12 ms ± 186 µs per loop (mean ± std. dev. of 7 runs, 100 loops each)\n"
     ]
    }
   ],
   "source": [
    "%%timeit\n",
    "hypot_n(r1, r2)"
   ]
  },
  {
   "cell_type": "code",
   "execution_count": 28,
   "metadata": {},
   "outputs": [
    {
     "output_type": "stream",
     "name": "stdout",
     "text": [
      "8.12 ms ± 159 µs per loop (mean ± std. dev. of 7 runs, 100 loops each)\n"
     ]
    }
   ],
   "source": [
    "%%timeit\n",
    "hypot_t(r1, r2)"
   ]
  },
  {
   "source": [
    "We again see a speed improvement"
   ],
   "cell_type": "markdown",
   "metadata": {}
  },
  {
   "source": [
    "_________________________\n",
    "## *vectorize*\n",
    "_________________________"
   ],
   "cell_type": "markdown",
   "metadata": {}
  },
  {
   "source": [
    "## Numpy axes"
   ],
   "cell_type": "markdown",
   "metadata": {}
  },
  {
   "source": [
    "Functions that have axes allows us to apply funcitons on a specific axis inside an array\n"
   ],
   "cell_type": "markdown",
   "metadata": {}
  },
  {
   "cell_type": "code",
   "execution_count": 29,
   "metadata": {},
   "outputs": [
    {
     "output_type": "execute_result",
     "data": {
      "text/plain": [
       "array([[1.01, 1.01, 1.01, 1.01],\n",
       "       [1.01, 1.01, 1.01, 1.01],\n",
       "       [1.01, 1.01, 1.01, 1.01],\n",
       "       [1.01, 1.01, 1.01, 1.01],\n",
       "       [1.01, 1.01, 1.01, 1.01]])"
      ]
     },
     "metadata": {},
     "execution_count": 29
    }
   ],
   "source": [
    "arr = np.ones((5, 4)) * 1.01\n",
    "arr"
   ]
  },
  {
   "cell_type": "code",
   "execution_count": 30,
   "metadata": {},
   "outputs": [
    {
     "output_type": "execute_result",
     "data": {
      "text/plain": [
       "array([[1.01, 1.01, 1.01, 1.01],\n",
       "       [2.02, 2.02, 2.02, 2.02],\n",
       "       [3.03, 3.03, 3.03, 3.03],\n",
       "       [4.04, 4.04, 4.04, 4.04],\n",
       "       [5.05, 5.05, 5.05, 5.05]])"
      ]
     },
     "metadata": {},
     "execution_count": 30
    }
   ],
   "source": [
    "arr.cumsum(axis=0)"
   ]
  },
  {
   "source": [
    "This takes the sum vertically down "
   ],
   "cell_type": "markdown",
   "metadata": {}
  },
  {
   "cell_type": "code",
   "execution_count": 31,
   "metadata": {},
   "outputs": [
    {
     "output_type": "execute_result",
     "data": {
      "text/plain": [
       "array([[1.01, 2.02, 3.03, 4.04],\n",
       "       [1.01, 2.02, 3.03, 4.04],\n",
       "       [1.01, 2.02, 3.03, 4.04],\n",
       "       [1.01, 2.02, 3.03, 4.04],\n",
       "       [1.01, 2.02, 3.03, 4.04]])"
      ]
     },
     "metadata": {},
     "execution_count": 31
    }
   ],
   "source": [
    "arr.cumsum(axis=1)"
   ]
  },
  {
   "source": [
    "This takes the sum horizontally across "
   ],
   "cell_type": "markdown",
   "metadata": {}
  },
  {
   "source": [
    "Numba can also take axes as arguments"
   ],
   "cell_type": "markdown",
   "metadata": {}
  },
  {
   "cell_type": "code",
   "execution_count": 32,
   "metadata": {},
   "outputs": [],
   "source": [
    "from numba import vectorize, float64, float32\n",
    "\n",
    "@vectorize([float64(float64, float64)])\n",
    "def cumprod(x, y):\n",
    "    return x * y"
   ]
  },
  {
   "source": [
    "this `cumprod` function is now a universal funtion inside numpy\n",
    "\n",
    "this means we can use it to accumulate along an axis or reduce along an axis"
   ],
   "cell_type": "markdown",
   "metadata": {}
  },
  {
   "cell_type": "code",
   "execution_count": 33,
   "metadata": {},
   "outputs": [
    {
     "output_type": "execute_result",
     "data": {
      "text/plain": [
       "array([[1.01      , 1.01      , 1.01      , 1.01      ],\n",
       "       [1.0201    , 1.0201    , 1.0201    , 1.0201    ],\n",
       "       [1.030301  , 1.030301  , 1.030301  , 1.030301  ],\n",
       "       [1.04060401, 1.04060401, 1.04060401, 1.04060401],\n",
       "       [1.05101005, 1.05101005, 1.05101005, 1.05101005]])"
      ]
     },
     "metadata": {},
     "execution_count": 33
    }
   ],
   "source": [
    "cumprod.accumulate(arr, axis=0)"
   ]
  },
  {
   "cell_type": "code",
   "execution_count": 34,
   "metadata": {},
   "outputs": [
    {
     "output_type": "execute_result",
     "data": {
      "text/plain": [
       "array([[1.01      , 1.0201    , 1.030301  , 1.04060401],\n",
       "       [1.01      , 1.0201    , 1.030301  , 1.04060401],\n",
       "       [1.01      , 1.0201    , 1.030301  , 1.04060401],\n",
       "       [1.01      , 1.0201    , 1.030301  , 1.04060401],\n",
       "       [1.01      , 1.0201    , 1.030301  , 1.04060401]])"
      ]
     },
     "metadata": {},
     "execution_count": 34
    }
   ],
   "source": [
    "cumprod.accumulate(arr, axis=1)"
   ]
  },
  {
   "cell_type": "code",
   "execution_count": 35,
   "metadata": {},
   "outputs": [
    {
     "output_type": "execute_result",
     "data": {
      "text/plain": [
       "array([1.05101005, 1.05101005, 1.05101005, 1.05101005])"
      ]
     },
     "metadata": {},
     "execution_count": 35
    }
   ],
   "source": [
    "cumprod.reduce(arr, axis=0)"
   ]
  },
  {
   "cell_type": "code",
   "execution_count": 36,
   "metadata": {},
   "outputs": [
    {
     "output_type": "execute_result",
     "data": {
      "text/plain": [
       "array([1.04060401, 1.04060401, 1.04060401, 1.04060401, 1.04060401])"
      ]
     },
     "metadata": {},
     "execution_count": 36
    }
   ],
   "source": [
    "cumprod.reduce(arr, axis=1)"
   ]
  },
  {
   "source": [
    "we can also allow float32"
   ],
   "cell_type": "markdown",
   "metadata": {}
  },
  {
   "cell_type": "code",
   "execution_count": 37,
   "metadata": {},
   "outputs": [],
   "source": [
    "@vectorize([float64(float64, float64),float32(float32, float32)])\n",
    "def cumprod(x, y):\n",
    "    return x * y"
   ]
  },
  {
   "source": [
    "There are some unsupported types, as well as async functions\n",
    "\n",
    "documentation is [here](https://numba.pydata.org/numba-doc/dev/reference/pysupported.html)"
   ],
   "cell_type": "markdown",
   "metadata": {}
  }
 ]
}