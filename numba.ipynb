{
 "metadata": {
  "language_info": {
   "codemirror_mode": {
    "name": "ipython",
    "version": 3
   },
   "file_extension": ".py",
   "mimetype": "text/x-python",
   "name": "python",
   "nbconvert_exporter": "python",
   "pygments_lexer": "ipython3",
   "version": "3.8.5-final"
  },
  "orig_nbformat": 2,
  "kernelspec": {
   "name": "Python 3.8.5 64-bit ('3.8.5')",
   "display_name": "Python 3.8.5 64-bit ('3.8.5')",
   "metadata": {
    "interpreter": {
     "hash": "1dac8109892ddd53880a03e1b3caf22888318125b54fed92119cfe03a500281e"
    }
   }
  }
 },
 "nbformat": 4,
 "nbformat_minor": 2,
 "cells": [
  {
   "source": [
    "# Numba"
   ],
   "cell_type": "markdown",
   "metadata": {}
  },
  {
   "source": [
    "_________________________\n",
    "## *Intro*\n",
    "_________________________"
   ],
   "cell_type": "markdown",
   "metadata": {}
  },
  {
   "source": [
    "Numba does something that we may not be used to in typical python"
   ],
   "cell_type": "markdown",
   "metadata": {}
  },
  {
   "cell_type": "code",
   "execution_count": 1,
   "metadata": {},
   "outputs": [],
   "source": [
    "def func_one(n):\n",
    "    result = 0\n",
    "    for i in range(n):\n",
    "        squared = n * n\n",
    "        result += squared\n",
    "    return result\n",
    "\n",
    "def func_two(n):\n",
    "    result = 0\n",
    "    squared = n * n\n",
    "    for i in range(n):\n",
    "        result += squared\n",
    "    return result\n",
    "\n"
   ]
  },
  {
   "source": [
    "these two functions demonstrate this\n",
    "The one core difference is function one has the square calculation inside the for loop and function two calculates it outside the for loop\n",
    "\n",
    "Let's time the functions\n"
   ],
   "cell_type": "markdown",
   "metadata": {}
  },
  {
   "cell_type": "code",
   "execution_count": 2,
   "metadata": {},
   "outputs": [
    {
     "output_type": "stream",
     "name": "stdout",
     "text": [
      "826 µs ± 7.82 µs per loop (mean ± std. dev. of 7 runs, 1000 loops each)\n"
     ]
    }
   ],
   "source": [
    "%%timeit\n",
    "func_one(10000)"
   ]
  },
  {
   "cell_type": "code",
   "execution_count": 3,
   "metadata": {},
   "outputs": [
    {
     "output_type": "stream",
     "name": "stdout",
     "text": [
      "514 µs ± 999 ns per loop (mean ± std. dev. of 7 runs, 1000 loops each)\n"
     ]
    }
   ],
   "source": [
    "%%timeit\n",
    "func_two(10000)"
   ]
  },
  {
   "source": [
    "Let's now make some edits using `numba` and see the performance differences"
   ],
   "cell_type": "markdown",
   "metadata": {}
  },
  {
   "cell_type": "code",
   "execution_count": 4,
   "metadata": {},
   "outputs": [],
   "source": [
    "import numba as nb\n",
    "\n",
    "@nb.njit\n",
    "def func_one(n):\n",
    "    result = 0\n",
    "    for i in range(n):\n",
    "        squared = n * n\n",
    "        result += squared\n",
    "    return result\n",
    "\n",
    "@nb.njit\n",
    "def func_two(n):\n",
    "    result = 0\n",
    "    squared = n * n\n",
    "    for i in range(n):\n",
    "        result += squared\n",
    "    return result\n",
    "\n",
    "func_one(1); func_two(2);"
   ]
  },
  {
   "cell_type": "code",
   "execution_count": 5,
   "metadata": {},
   "outputs": [
    {
     "output_type": "stream",
     "name": "stdout",
     "text": [
      "138 ns ± 1.35 ns per loop (mean ± std. dev. of 7 runs, 10000000 loops each)\n"
     ]
    }
   ],
   "source": [
    "%%timeit\n",
    "func_one(10000)"
   ]
  },
  {
   "cell_type": "code",
   "execution_count": 6,
   "metadata": {},
   "outputs": [
    {
     "output_type": "stream",
     "name": "stdout",
     "text": [
      "137 ns ± 0.376 ns per loop (mean ± std. dev. of 7 runs, 10000000 loops each)\n"
     ]
    }
   ],
   "source": [
    "%%timeit\n",
    "func_two(10000)"
   ]
  },
  {
   "source": [
    "These now run in nanoseconds instead of microseconds\n",
    "\n",
    "Both of them are also about the same speed\n",
    "\n"
   ],
   "cell_type": "markdown",
   "metadata": {}
  },
  {
   "source": [
    "Numba applies a just-in-time compiler to analyze and convert the functions into more efficient code\n",
    "\n",
    "* The compiler can make assumptions about the type of variables\n",
    "* What is happening in the example above is the compiler realizes that the `squared = n * n` in the for loop is just a constant that can be moved outside the loop"
   ],
   "cell_type": "markdown",
   "metadata": {}
  },
  {
   "source": [
    "_________________________\n",
    "## *compile*\n",
    "_________________________"
   ],
   "cell_type": "markdown",
   "metadata": {}
  },
  {
   "source": [
    "*Not everything is faster!*\n",
    "\n",
    "When you run this the first time, numba actually makes it slower because it needs to compile\n",
    "\n",
    "Numba also doesn't know all options for all python code out there, so it can't always improve performance"
   ],
   "cell_type": "markdown",
   "metadata": {}
  },
  {
   "source": [
    "Numba can only speed up a subset of python code\n"
   ],
   "cell_type": "markdown",
   "metadata": {}
  },
  {
   "cell_type": "code",
   "execution_count": 7,
   "metadata": {},
   "outputs": [],
   "source": [
    "@nb.njit\n",
    "def func_test(n):\n",
    "    result = {}\n",
    "    for i in range(n):\n",
    "        new_dict = {'a' * n: n}\n",
    "        result[squared] = new_dict\n",
    "    return result"
   ]
  },
  {
   "cell_type": "code",
   "execution_count": 8,
   "metadata": {},
   "outputs": [
    {
     "output_type": "error",
     "ename": "TypingError",
     "evalue": "Failed in nopython mode pipeline (step: nopython frontend)\n\u001b[1mNameError: name 'squared' is not defined\u001b[0m",
     "traceback": [
      "\u001b[0;31m---------------------------------------------------------------------------\u001b[0m",
      "\u001b[0;31mTypingError\u001b[0m                               Traceback (most recent call last)",
      "\u001b[0;32m<ipython-input-8-a7d4756f2e5f>\u001b[0m in \u001b[0;36m<module>\u001b[0;34m\u001b[0m\n\u001b[0;32m----> 1\u001b[0;31m \u001b[0mfunc_test\u001b[0m\u001b[0;34m(\u001b[0m\u001b[0;36m10\u001b[0m\u001b[0;34m)\u001b[0m\u001b[0;34m\u001b[0m\u001b[0;34m\u001b[0m\u001b[0m\n\u001b[0m",
      "\u001b[0;32m~/.pyenv/versions/3.8.5/lib/python3.8/site-packages/numba/core/dispatcher.py\u001b[0m in \u001b[0;36m_compile_for_args\u001b[0;34m(self, *args, **kws)\u001b[0m\n\u001b[1;32m    413\u001b[0m                 \u001b[0me\u001b[0m\u001b[0;34m.\u001b[0m\u001b[0mpatch_message\u001b[0m\u001b[0;34m(\u001b[0m\u001b[0mmsg\u001b[0m\u001b[0;34m)\u001b[0m\u001b[0;34m\u001b[0m\u001b[0;34m\u001b[0m\u001b[0m\n\u001b[1;32m    414\u001b[0m \u001b[0;34m\u001b[0m\u001b[0m\n\u001b[0;32m--> 415\u001b[0;31m             \u001b[0merror_rewrite\u001b[0m\u001b[0;34m(\u001b[0m\u001b[0me\u001b[0m\u001b[0;34m,\u001b[0m \u001b[0;34m'typing'\u001b[0m\u001b[0;34m)\u001b[0m\u001b[0;34m\u001b[0m\u001b[0;34m\u001b[0m\u001b[0m\n\u001b[0m\u001b[1;32m    416\u001b[0m         \u001b[0;32mexcept\u001b[0m \u001b[0merrors\u001b[0m\u001b[0;34m.\u001b[0m\u001b[0mUnsupportedError\u001b[0m \u001b[0;32mas\u001b[0m \u001b[0me\u001b[0m\u001b[0;34m:\u001b[0m\u001b[0;34m\u001b[0m\u001b[0;34m\u001b[0m\u001b[0m\n\u001b[1;32m    417\u001b[0m             \u001b[0;31m# Something unsupported is present in the user code, add help info\u001b[0m\u001b[0;34m\u001b[0m\u001b[0;34m\u001b[0m\u001b[0;34m\u001b[0m\u001b[0m\n",
      "\u001b[0;32m~/.pyenv/versions/3.8.5/lib/python3.8/site-packages/numba/core/dispatcher.py\u001b[0m in \u001b[0;36merror_rewrite\u001b[0;34m(e, issue_type)\u001b[0m\n\u001b[1;32m    356\u001b[0m                 \u001b[0;32mraise\u001b[0m \u001b[0me\u001b[0m\u001b[0;34m\u001b[0m\u001b[0;34m\u001b[0m\u001b[0m\n\u001b[1;32m    357\u001b[0m             \u001b[0;32melse\u001b[0m\u001b[0;34m:\u001b[0m\u001b[0;34m\u001b[0m\u001b[0;34m\u001b[0m\u001b[0m\n\u001b[0;32m--> 358\u001b[0;31m                 \u001b[0mreraise\u001b[0m\u001b[0;34m(\u001b[0m\u001b[0mtype\u001b[0m\u001b[0;34m(\u001b[0m\u001b[0me\u001b[0m\u001b[0;34m)\u001b[0m\u001b[0;34m,\u001b[0m \u001b[0me\u001b[0m\u001b[0;34m,\u001b[0m \u001b[0;32mNone\u001b[0m\u001b[0;34m)\u001b[0m\u001b[0;34m\u001b[0m\u001b[0;34m\u001b[0m\u001b[0m\n\u001b[0m\u001b[1;32m    359\u001b[0m \u001b[0;34m\u001b[0m\u001b[0m\n\u001b[1;32m    360\u001b[0m         \u001b[0margtypes\u001b[0m \u001b[0;34m=\u001b[0m \u001b[0;34m[\u001b[0m\u001b[0;34m]\u001b[0m\u001b[0;34m\u001b[0m\u001b[0;34m\u001b[0m\u001b[0m\n",
      "\u001b[0;32m~/.pyenv/versions/3.8.5/lib/python3.8/site-packages/numba/core/utils.py\u001b[0m in \u001b[0;36mreraise\u001b[0;34m(tp, value, tb)\u001b[0m\n\u001b[1;32m     78\u001b[0m         \u001b[0mvalue\u001b[0m \u001b[0;34m=\u001b[0m \u001b[0mtp\u001b[0m\u001b[0;34m(\u001b[0m\u001b[0;34m)\u001b[0m\u001b[0;34m\u001b[0m\u001b[0;34m\u001b[0m\u001b[0m\n\u001b[1;32m     79\u001b[0m     \u001b[0;32mif\u001b[0m \u001b[0mvalue\u001b[0m\u001b[0;34m.\u001b[0m\u001b[0m__traceback__\u001b[0m \u001b[0;32mis\u001b[0m \u001b[0;32mnot\u001b[0m \u001b[0mtb\u001b[0m\u001b[0;34m:\u001b[0m\u001b[0;34m\u001b[0m\u001b[0;34m\u001b[0m\u001b[0m\n\u001b[0;32m---> 80\u001b[0;31m         \u001b[0;32mraise\u001b[0m \u001b[0mvalue\u001b[0m\u001b[0;34m.\u001b[0m\u001b[0mwith_traceback\u001b[0m\u001b[0;34m(\u001b[0m\u001b[0mtb\u001b[0m\u001b[0;34m)\u001b[0m\u001b[0;34m\u001b[0m\u001b[0;34m\u001b[0m\u001b[0m\n\u001b[0m\u001b[1;32m     81\u001b[0m     \u001b[0;32mraise\u001b[0m \u001b[0mvalue\u001b[0m\u001b[0;34m\u001b[0m\u001b[0;34m\u001b[0m\u001b[0m\n\u001b[1;32m     82\u001b[0m \u001b[0;34m\u001b[0m\u001b[0m\n",
      "\u001b[0;31mTypingError\u001b[0m: Failed in nopython mode pipeline (step: nopython frontend)\n\u001b[1mNameError: name 'squared' is not defined\u001b[0m"
     ]
    }
   ],
   "source": [
    "func_test(10)"
   ]
  },
  {
   "source": [
    "Numba is built for numeric code so we should limit ourselves to that if we're going to use it"
   ],
   "cell_type": "markdown",
   "metadata": {}
  },
  {
   "source": [
    "_________________________\n",
    "## *benchmark*\n",
    "_________________________"
   ],
   "cell_type": "markdown",
   "metadata": {}
  },
  {
   "source": [
    "## Numba Settings"
   ],
   "cell_type": "markdown",
   "metadata": {}
  },
  {
   "cell_type": "code",
   "execution_count": 9,
   "metadata": {},
   "outputs": [],
   "source": [
    "import numpy as np"
   ]
  },
  {
   "cell_type": "code",
   "execution_count": 15,
   "metadata": {},
   "outputs": [],
   "source": [
    "@nb.njit()\n",
    "def hypot_n(x, y):\n",
    "    return (x**2 + y**2)**0.5\n",
    "\n",
    "@nb.njit(parallel=True, fastmath=True)\n",
    "def hypot_p(x, y):\n",
    "    return (x**2 + y**2)**0.5"
   ]
  },
  {
   "source": [
    "the `parallel=True` flag means that if you pass a numpy array and the operation is parallizable, it will try to use more than one core\n",
    "\n",
    "the `fastmath` flag is a little more involved. Documentation is [here](https://llvm.org/docs/LangRef.html#fast-math-flags)"
   ],
   "cell_type": "markdown",
   "metadata": {}
  },
  {
   "cell_type": "code",
   "execution_count": 12,
   "metadata": {},
   "outputs": [
    {
     "output_type": "execute_result",
     "data": {
      "text/plain": [
       "array([[0.62883245, 0.99587588, 0.72639647, ..., 1.02122589, 0.48601202,\n",
       "        0.95756198],\n",
       "       [1.01008962, 1.12699009, 0.74899116, ..., 0.74018585, 0.91445294,\n",
       "        0.50736059],\n",
       "       [1.03262022, 0.46906692, 1.00489487, ..., 0.72117873, 0.97040632,\n",
       "        0.89808593],\n",
       "       ...,\n",
       "       [0.65087832, 0.85938314, 0.54353816, ..., 0.80766781, 0.98841149,\n",
       "        0.4878289 ],\n",
       "       [0.24019373, 0.70292642, 0.91528304, ..., 1.04550116, 0.87566152,\n",
       "        0.90827608],\n",
       "       [1.22438166, 0.82707268, 0.19680433, ..., 0.97183508, 1.27621754,\n",
       "        1.16466602]])"
      ]
     },
     "metadata": {},
     "execution_count": 12
    }
   ],
   "source": [
    "r1, r2 = np.random.random(size=(2000, 2000)), np.random.random(size=(2000, 2000))\n",
    "hypot_n(r1, r2); hypot_p(r1, r2)"
   ]
  },
  {
   "cell_type": "code",
   "execution_count": 13,
   "metadata": {},
   "outputs": [
    {
     "output_type": "stream",
     "name": "stdout",
     "text": [
      "11.5 ms ± 189 µs per loop (mean ± std. dev. of 7 runs, 100 loops each)\n"
     ]
    }
   ],
   "source": [
    "%%timeit\n",
    "hypot_n(r1, r2)"
   ]
  },
  {
   "cell_type": "code",
   "execution_count": 14,
   "metadata": {},
   "outputs": [
    {
     "output_type": "stream",
     "name": "stdout",
     "text": [
      "7.77 ms ± 219 µs per loop (mean ± std. dev. of 7 runs, 100 loops each)\n"
     ]
    }
   ],
   "source": [
    "%%timeit\n",
    "hypot_p(r1, r2)"
   ]
  },
  {
   "source": [
    "Let's see how long this takes without numba"
   ],
   "cell_type": "markdown",
   "metadata": {}
  },
  {
   "cell_type": "code",
   "execution_count": 16,
   "metadata": {},
   "outputs": [
    {
     "output_type": "stream",
     "name": "stdout",
     "text": [
      "27.7 ms ± 1.08 ms per loop (mean ± std. dev. of 7 runs, 10 loops each)\n"
     ]
    }
   ],
   "source": [
    "%%timeit\n",
    "(r1**2 + r2**2)**0.5"
   ]
  },
  {
   "source": [
    "We can see that this jit compiler can even be faster than numpy at times"
   ],
   "cell_type": "markdown",
   "metadata": {}
  },
  {
   "source": [
    "_________________________\n",
    "## *types*\n",
    "_________________________"
   ],
   "cell_type": "markdown",
   "metadata": {}
  },
  {
   "source": [
    "We can speed up the code even more by being explicit about the types of inputs it can accept"
   ],
   "cell_type": "markdown",
   "metadata": {}
  },
  {
   "cell_type": "code",
   "execution_count": 20,
   "metadata": {},
   "outputs": [
    {
     "output_type": "execute_result",
     "data": {
      "text/plain": [
       "(array(float64, 2d, A), array(float64, 2d, A)) -> array(float64, 2d, A)"
      ]
     },
     "metadata": {},
     "execution_count": 20
    }
   ],
   "source": [
    "from numba import float64\n",
    "\n",
    "float64[:, :](float64[:, :], float64[:, :])"
   ]
  },
  {
   "source": [
    "The above signature definition is what we're now feeding as the first argument to the nb decorator"
   ],
   "cell_type": "markdown",
   "metadata": {}
  },
  {
   "source": [
    "We've imported the float64 type\n",
    "the above accepts two-dimensional numpy arrays"
   ],
   "cell_type": "markdown",
   "metadata": {}
  },
  {
   "cell_type": "code",
   "execution_count": 22,
   "metadata": {},
   "outputs": [],
   "source": [
    "@nb.njit(float64[:, :](float64[:, :], float64[:, :]), parallel=True, fastmath=True)\n",
    "def hypot_t(x, y):\n",
    "    return (x**2 + y**2)**0.5\n",
    "\n",
    "hypot_t(r1, r2);"
   ]
  },
  {
   "cell_type": "code",
   "execution_count": 23,
   "metadata": {},
   "outputs": [
    {
     "output_type": "stream",
     "name": "stdout",
     "text": [
      "11.5 ms ± 197 µs per loop (mean ± std. dev. of 7 runs, 100 loops each)\n"
     ]
    }
   ],
   "source": [
    "%%timeit\n",
    "hypot_n(r1, r2)"
   ]
  },
  {
   "cell_type": "code",
   "execution_count": 24,
   "metadata": {},
   "outputs": [
    {
     "output_type": "stream",
     "name": "stdout",
     "text": [
      "7.47 ms ± 163 µs per loop (mean ± std. dev. of 7 runs, 100 loops each)\n"
     ]
    }
   ],
   "source": [
    "%%timeit\n",
    "hypot_t(r1, r2)"
   ]
  },
  {
   "source": [
    "We again see a speed improvement"
   ],
   "cell_type": "markdown",
   "metadata": {}
  },
  {
   "source": [
    "_________________________\n",
    "## *vectorize*\n",
    "_________________________"
   ],
   "cell_type": "markdown",
   "metadata": {}
  },
  {
   "source": [
    "## Numpy axes"
   ],
   "cell_type": "markdown",
   "metadata": {}
  },
  {
   "source": [
    "Functions that have axes allows us to apply funcitons on a specific axis inside an array\n"
   ],
   "cell_type": "markdown",
   "metadata": {}
  },
  {
   "cell_type": "code",
   "execution_count": 25,
   "metadata": {},
   "outputs": [
    {
     "output_type": "execute_result",
     "data": {
      "text/plain": [
       "array([[1.01, 1.01, 1.01, 1.01],\n",
       "       [1.01, 1.01, 1.01, 1.01],\n",
       "       [1.01, 1.01, 1.01, 1.01],\n",
       "       [1.01, 1.01, 1.01, 1.01],\n",
       "       [1.01, 1.01, 1.01, 1.01]])"
      ]
     },
     "metadata": {},
     "execution_count": 25
    }
   ],
   "source": [
    "arr = np.ones((5, 4)) * 1.01\n",
    "arr"
   ]
  },
  {
   "cell_type": "code",
   "execution_count": 26,
   "metadata": {},
   "outputs": [
    {
     "output_type": "execute_result",
     "data": {
      "text/plain": [
       "array([[1.01, 1.01, 1.01, 1.01],\n",
       "       [2.02, 2.02, 2.02, 2.02],\n",
       "       [3.03, 3.03, 3.03, 3.03],\n",
       "       [4.04, 4.04, 4.04, 4.04],\n",
       "       [5.05, 5.05, 5.05, 5.05]])"
      ]
     },
     "metadata": {},
     "execution_count": 26
    }
   ],
   "source": [
    "arr.cumsum(axis=0)"
   ]
  },
  {
   "source": [
    "This takes the sum vertically down "
   ],
   "cell_type": "markdown",
   "metadata": {}
  },
  {
   "cell_type": "code",
   "execution_count": 27,
   "metadata": {},
   "outputs": [
    {
     "output_type": "execute_result",
     "data": {
      "text/plain": [
       "array([[1.01, 2.02, 3.03, 4.04],\n",
       "       [1.01, 2.02, 3.03, 4.04],\n",
       "       [1.01, 2.02, 3.03, 4.04],\n",
       "       [1.01, 2.02, 3.03, 4.04],\n",
       "       [1.01, 2.02, 3.03, 4.04]])"
      ]
     },
     "metadata": {},
     "execution_count": 27
    }
   ],
   "source": [
    "arr.cumsum(axis=1)"
   ]
  },
  {
   "source": [
    "This takes the sum horizontally across "
   ],
   "cell_type": "markdown",
   "metadata": {}
  },
  {
   "source": [
    "Numba can also take axes as arguments"
   ],
   "cell_type": "markdown",
   "metadata": {}
  },
  {
   "cell_type": "code",
   "execution_count": 33,
   "metadata": {},
   "outputs": [],
   "source": [
    "from numba import vectorize, float64, float32\n",
    "\n",
    "@vectorize([float64(float64, float64)])\n",
    "def cumprod(x, y):\n",
    "    return x * y"
   ]
  },
  {
   "source": [
    "this `cumprod` function is now a universal funtion inside numpy\n",
    "\n",
    "this means we can use it to accumulate along an axis or reduce along an axis"
   ],
   "cell_type": "markdown",
   "metadata": {}
  },
  {
   "cell_type": "code",
   "execution_count": 29,
   "metadata": {},
   "outputs": [
    {
     "output_type": "execute_result",
     "data": {
      "text/plain": [
       "array([[1.01      , 1.01      , 1.01      , 1.01      ],\n",
       "       [1.0201    , 1.0201    , 1.0201    , 1.0201    ],\n",
       "       [1.030301  , 1.030301  , 1.030301  , 1.030301  ],\n",
       "       [1.04060401, 1.04060401, 1.04060401, 1.04060401],\n",
       "       [1.05101005, 1.05101005, 1.05101005, 1.05101005]])"
      ]
     },
     "metadata": {},
     "execution_count": 29
    }
   ],
   "source": [
    "cumprod.accumulate(arr, axis=0)"
   ]
  },
  {
   "cell_type": "code",
   "execution_count": 30,
   "metadata": {},
   "outputs": [
    {
     "output_type": "execute_result",
     "data": {
      "text/plain": [
       "array([[1.01      , 1.0201    , 1.030301  , 1.04060401],\n",
       "       [1.01      , 1.0201    , 1.030301  , 1.04060401],\n",
       "       [1.01      , 1.0201    , 1.030301  , 1.04060401],\n",
       "       [1.01      , 1.0201    , 1.030301  , 1.04060401],\n",
       "       [1.01      , 1.0201    , 1.030301  , 1.04060401]])"
      ]
     },
     "metadata": {},
     "execution_count": 30
    }
   ],
   "source": [
    "cumprod.accumulate(arr, axis=1)"
   ]
  },
  {
   "cell_type": "code",
   "execution_count": 31,
   "metadata": {},
   "outputs": [
    {
     "output_type": "execute_result",
     "data": {
      "text/plain": [
       "array([1.05101005, 1.05101005, 1.05101005, 1.05101005])"
      ]
     },
     "metadata": {},
     "execution_count": 31
    }
   ],
   "source": [
    "cumprod.reduce(arr, axis=0)"
   ]
  },
  {
   "cell_type": "code",
   "execution_count": 32,
   "metadata": {},
   "outputs": [
    {
     "output_type": "execute_result",
     "data": {
      "text/plain": [
       "array([1.04060401, 1.04060401, 1.04060401, 1.04060401, 1.04060401])"
      ]
     },
     "metadata": {},
     "execution_count": 32
    }
   ],
   "source": [
    "cumprod.reduce(arr, axis=1)"
   ]
  },
  {
   "source": [
    "we can also allow float32"
   ],
   "cell_type": "markdown",
   "metadata": {}
  },
  {
   "cell_type": "code",
   "execution_count": 34,
   "metadata": {},
   "outputs": [],
   "source": [
    "@vectorize([float64(float64, float64),float32(float32, float32)])\n",
    "def cumprod(x, y):\n",
    "    return x * y"
   ]
  },
  {
   "source": [
    "There are some unsupported types, as well as async functions\n",
    "\n",
    "documentation is [here](https://numba.pydata.org/numba-doc/dev/reference/pysupported.html)"
   ],
   "cell_type": "markdown",
   "metadata": {}
  },
  {
   "cell_type": "code",
   "execution_count": null,
   "metadata": {},
   "outputs": [],
   "source": []
  }
 ]
}