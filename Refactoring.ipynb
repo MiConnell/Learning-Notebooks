{
 "metadata": {
  "language_info": {
   "codemirror_mode": {
    "name": "ipython",
    "version": 3
   },
   "file_extension": ".py",
   "mimetype": "text/x-python",
   "name": "python",
   "nbconvert_exporter": "python",
   "pygments_lexer": "ipython3",
   "version": "3.8.5-final"
  },
  "orig_nbformat": 2,
  "kernelspec": {
   "name": "Python 3.8.5 64-bit ('3.8.5')",
   "display_name": "Python 3.8.5 64-bit ('3.8.5')",
   "metadata": {
    "interpreter": {
     "hash": "1dac8109892ddd53880a03e1b3caf22888318125b54fed92119cfe03a500281e"
    }
   }
  }
 },
 "nbformat": 4,
 "nbformat_minor": 2,
 "cells": [
  {
   "source": [
    "# Refactoring\n",
    "Taken from the [Sourcery Blog](https://sourcery.ai/blog/)"
   ],
   "cell_type": "markdown",
   "metadata": {}
  },
  {
   "source": [
    "## There are many ways to write Python code, but some ways are more succinct than others\n"
   ],
   "cell_type": "markdown",
   "metadata": {}
  },
  {
   "source": [
    "#### Merge Nested If Conditions"
   ],
   "cell_type": "markdown",
   "metadata": {}
  },
  {
   "cell_type": "code",
   "execution_count": 2,
   "metadata": {},
   "outputs": [],
   "source": [
    "# Before\n",
    "def nested():\n",
    "    if a:\n",
    "        if b:\n",
    "            return c\n",
    "\n",
    "# After\n",
    "def refactored():\n",
    "    if a and b:\n",
    "        return c"
   ]
  },
  {
   "source": [
    "#### Hoist repeated code outside conditional statement"
   ],
   "cell_type": "markdown",
   "metadata": {}
  },
  {
   "cell_type": "code",
   "execution_count": 3,
   "metadata": {},
   "outputs": [],
   "source": [
    "# Before\n",
    "def repeated():\n",
    "    if sold > DISCOUNT_AMOUNT:\n",
    "        total = sold * DISCOUNT_PRICE\n",
    "        label = f'Total: {total}'\n",
    "    else:\n",
    "        total = sold * PRICE\n",
    "        label = f'Total: {total}'\n",
    "\n",
    "# After\n",
    "def refactored():\n",
    "    if sold > DISCOUNT_AMOUNT:\n",
    "        total = sold * DISCOUNT_PRICE\n",
    "    else:\n",
    "        total = sold * PRICE\n",
    "    label = f'Total: {total}'\n"
   ]
  },
  {
   "source": [
    "#### Replace yield inside for loop with yield from"
   ],
   "cell_type": "markdown",
   "metadata": {}
  },
  {
   "cell_type": "code",
   "execution_count": 4,
   "metadata": {},
   "outputs": [],
   "source": [
    "# Before\n",
    "def yield_in_for(entry):\n",
    "    for block in entry.get_blocks():\n",
    "        yield block\n",
    "\n",
    "# After\n",
    "def yield_from(entry):\n",
    "    yield from entry.get_blocks()\n"
   ]
  },
  {
   "source": [
    "#### Use any() instead of for loop"
   ],
   "cell_type": "markdown",
   "metadata": {}
  },
  {
   "cell_type": "code",
   "execution_count": 5,
   "metadata": {},
   "outputs": [],
   "source": [
    "# Before\n",
    "def for_loop():\n",
    "    found = False\n",
    "    for thing in things:\n",
    "        if thing == other_thing:\n",
    "            found = True\n",
    "            break\n",
    "\n",
    "# After\n",
    "def refactored_any():\n",
    "    found = any(thing == other_thing for thing in things)\n"
   ]
  },
  {
   "source": [
    "#### Replace list() with []"
   ],
   "cell_type": "markdown",
   "metadata": {}
  },
  {
   "cell_type": "code",
   "execution_count": 6,
   "metadata": {},
   "outputs": [],
   "source": [
    "# Before\n",
    "x = list()\n",
    "\n",
    "# After\n",
    "x = []"
   ]
  },
  {
   "cell_type": "code",
   "execution_count": null,
   "metadata": {},
   "outputs": [],
   "source": []
  }
 ]
}