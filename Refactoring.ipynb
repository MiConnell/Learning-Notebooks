{
 "metadata": {
  "language_info": {
   "codemirror_mode": {
    "name": "ipython",
    "version": 3
   },
   "file_extension": ".py",
   "mimetype": "text/x-python",
   "name": "python",
   "nbconvert_exporter": "python",
   "pygments_lexer": "ipython3",
   "version": "3.8.5-final"
  },
  "orig_nbformat": 2,
  "kernelspec": {
   "name": "Python 3.8.5 64-bit ('3.8.5')",
   "display_name": "Python 3.8.5 64-bit ('3.8.5')",
   "metadata": {
    "interpreter": {
     "hash": "1dac8109892ddd53880a03e1b3caf22888318125b54fed92119cfe03a500281e"
    }
   }
  }
 },
 "nbformat": 4,
 "nbformat_minor": 2,
 "cells": [
  {
   "source": [
    "# Refactoring\n",
    "Taken from the [Sourcery Blog](https://sourcery.ai/blog/)"
   ],
   "cell_type": "markdown",
   "metadata": {}
  },
  {
   "source": [
    "## There are many ways to write Python code, but some ways are more succinct than others\n"
   ],
   "cell_type": "markdown",
   "metadata": {}
  },
  {
   "source": [
    "#### Merge Nested If Conditions"
   ],
   "cell_type": "markdown",
   "metadata": {}
  },
  {
   "cell_type": "code",
   "execution_count": 2,
   "metadata": {},
   "outputs": [],
   "source": [
    "# Before\n",
    "def nested():\n",
    "    if a:\n",
    "        if b:\n",
    "            return c\n",
    "\n",
    "# After\n",
    "def refactored():\n",
    "    if a and b:\n",
    "        return c"
   ]
  },
  {
   "source": [
    "#### Hoist repeated code outside conditional statement"
   ],
   "cell_type": "markdown",
   "metadata": {}
  },
  {
   "cell_type": "code",
   "execution_count": 3,
   "metadata": {},
   "outputs": [],
   "source": [
    "# Before\n",
    "def repeated():\n",
    "    if sold > DISCOUNT_AMOUNT:\n",
    "        total = sold * DISCOUNT_PRICE\n",
    "        label = f'Total: {total}'\n",
    "    else:\n",
    "        total = sold * PRICE\n",
    "        label = f'Total: {total}'\n",
    "\n",
    "# After\n",
    "def refactored():\n",
    "    if sold > DISCOUNT_AMOUNT:\n",
    "        total = sold * DISCOUNT_PRICE\n",
    "    else:\n",
    "        total = sold * PRICE\n",
    "    label = f'Total: {total}'\n"
   ]
  },
  {
   "source": [
    "#### Replace yield inside for loop with yield from"
   ],
   "cell_type": "markdown",
   "metadata": {}
  },
  {
   "cell_type": "code",
   "execution_count": 4,
   "metadata": {},
   "outputs": [],
   "source": [
    "# Before\n",
    "def yield_in_for(entry):\n",
    "    for block in entry.get_blocks():\n",
    "        yield block\n",
    "\n",
    "# After\n",
    "def yield_from(entry):\n",
    "    yield from entry.get_blocks()\n"
   ]
  },
  {
   "source": [
    "#### Use any() instead of for loop"
   ],
   "cell_type": "markdown",
   "metadata": {}
  },
  {
   "cell_type": "code",
   "execution_count": 5,
   "metadata": {},
   "outputs": [],
   "source": [
    "# Before\n",
    "def for_loop():\n",
    "    found = False\n",
    "    for thing in things:\n",
    "        if thing == other_thing:\n",
    "            found = True\n",
    "            break\n",
    "\n",
    "# After\n",
    "def refactored_any():\n",
    "    found = any(thing == other_thing for thing in things)\n"
   ]
  },
  {
   "source": [
    "#### Replace list() with []"
   ],
   "cell_type": "markdown",
   "metadata": {}
  },
  {
   "cell_type": "code",
   "execution_count": 6,
   "metadata": {},
   "outputs": [],
   "source": [
    "# Before\n",
    "x = list()\n",
    "\n",
    "# After\n",
    "x = []"
   ]
  },
  {
   "source": [
    "#### Hoist statements outside of for/while loop"
   ],
   "cell_type": "markdown",
   "metadata": {}
  },
  {
   "cell_type": "code",
   "execution_count": null,
   "metadata": {},
   "outputs": [],
   "source": [
    "# Before\n",
    "for building in buildings:\n",
    "    city = 'London'\n",
    "    addresses.append(building.street_address, city)\n",
    "\n",
    "# After\n",
    "city = 'London'\n",
    "for building in buildings:\n",
    "    addresses.append(building.street_address, city)"
   ]
  },
  {
   "source": [
    "#### Convert for loop into list/dictionary/set comprehension"
   ],
   "cell_type": "markdown",
   "metadata": {}
  },
  {
   "cell_type": "code",
   "execution_count": 1,
   "metadata": {},
   "outputs": [],
   "source": [
    "# Before\n",
    "cubes = []\n",
    "for i in range(20):\n",
    "    cubes.append(i ** 3)\n",
    "\n",
    "# After\n",
    "cubes = [i ** 3 for i in range(20)]"
   ]
  },
  {
   "source": [
    "#### Replace assignment with augmented assignment"
   ],
   "cell_type": "markdown",
   "metadata": {}
  },
  {
   "cell_type": "code",
   "execution_count": null,
   "metadata": {},
   "outputs": [],
   "source": [
    "# Before\n",
    "count = count + other_value\n",
    "\n",
    "# After\n",
    "count += other_value"
   ]
  },
  {
   "source": [
    "#### Inline variable that is only used once"
   ],
   "cell_type": "markdown",
   "metadata": {}
  },
  {
   "cell_type": "code",
   "execution_count": 3,
   "metadata": {},
   "outputs": [],
   "source": [
    "# Before\n",
    "def state_attributes(self):\n",
    "    state_arrt = {\n",
    "        ATTR_CODE_FORMAT: self.code_format,\n",
    "        ATTR_CHANGED_BY: self.changed_by\n",
    "    }\n",
    "return state_attr\n",
    "\n",
    "# After\n",
    "def state_attributes(self):\n",
    "    return {\n",
    "        ATTR_CODE_FORMAT: self.code_format,\n",
    "        ATTR_CHANGED_BY: self.changed_by\n",
    "    }"
   ]
  },
  {
   "source": [
    "#### Replace if statement with if expression"
   ],
   "cell_type": "markdown",
   "metadata": {}
  },
  {
   "cell_type": "code",
   "execution_count": null,
   "metadata": {},
   "outputs": [],
   "source": [
    "# Before\n",
    "if condition:\n",
    "    x = 1\n",
    "else: \n",
    "    x = 2\n",
    "\n",
    "# After\n",
    "x = 1 if condition else 2"
   ]
  },
  {
   "source": [
    "#### Replace unneeded comprehension with generator"
   ],
   "cell_type": "markdown",
   "metadata": {}
  },
  {
   "cell_type": "code",
   "execution_count": null,
   "metadata": {},
   "outputs": [],
   "source": [
    "# Before\n",
    "hat_found = any([is_hat(item) for item in wardrobe])\n",
    "\n",
    "# After\n",
    "hat_found = any(is_hat(item) for item in wardrobe)\n",
    "\n",
    "\"\"\"\n",
    "These functions all accept generators \n",
    "'all', 'any', 'enumerate', 'frozenset', 'list', 'max', 'min', 'set', 'sum', 'tuple'\n",
    "\"\"\""
   ]
  },
  {
   "source": [
    "#### Simplify conditional into return statement"
   ],
   "cell_type": "markdown",
   "metadata": {}
  },
  {
   "cell_type": "code",
   "execution_count": 5,
   "metadata": {},
   "outputs": [],
   "source": [
    "# Before\n",
    "def function():\n",
    "    if isinstance(a, b) or issubclass(b, a):\n",
    "        return True\n",
    "    return False\n",
    "\n",
    "# After\n",
    "def function():\n",
    "    return isinstance(a, b) or issubclass(b, a)\n",
    "\n",
    "\"\"\"\n",
    "This only works when a `bool` is returned\n",
    "\"\"\""
   ]
  },
  {
   "source": [
    "#### Add a guard clause"
   ],
   "cell_type": "markdown",
   "metadata": {}
  },
  {
   "cell_type": "code",
   "execution_count": null,
   "metadata": {},
   "outputs": [],
   "source": [
    "# Useful to take care of the edge case at the beginning of the conditional instead of the end by inverting the condition\n",
    "\n",
    "# Before\n",
    "def should_i_wear_this_hat(self, hat):\n",
    "    if isinstance(hat, Hat):\n",
    "        current_fashion = FASHION_API.get_fashion(FASHION_TYPE.HAT)\n",
    "        weather_outside = self.look_out_of_window()\n",
    "        is_stylish = self.evaluate_style(hat, current_fashion)\n",
    "        if weather_outside.is_raining:\n",
    "            print(\"Damn.\")\n",
    "            return True\n",
    "        else:\n",
    "            print(\"Great.\")\n",
    "            return is_stylish\n",
    "    else:\n",
    "        return False\n",
    "\n",
    "# After\n",
    "def should_i_wear_this_hat(self, hat):\n",
    "    if not isinstance(hat, Hat):\n",
    "        return False\n",
    "\n",
    "    current_fashion = get_fashion()\n",
    "    weather_outside = self.look_out_of_window()\n",
    "    is_stylish = self.evaluate_style(hat, current_fashion)\n",
    "    if weather_outside.is_raining:\n",
    "        print(\"Damn.\")\n",
    "        return True\n",
    "    else:\n",
    "        print(\"Great.\")\n",
    "        return is_stylish"
   ]
  },
  {
   "source": [
    "#### Swap if/else to remove empty body"
   ],
   "cell_type": "markdown",
   "metadata": {}
  },
  {
   "cell_type": "code",
   "execution_count": null,
   "metadata": {},
   "outputs": [],
   "source": [
    "# Before\n",
    "if location == OUTSIDE:\n",
    "    pass\n",
    "else:\n",
    "    take_off_hat()\n",
    "\n",
    "# Intermediate - inverse conditional\n",
    "if location != OUTSIDE:\n",
    "    take_off_hat()\n",
    "else:\n",
    "    pass\n",
    "\n",
    "# After - remove blank else\n",
    "if location != OUTSIDE:\n",
    "    take_off_hat()"
   ]
  },
  {
   "source": [
    "#### Merge append into list declaration"
   ],
   "cell_type": "markdown",
   "metadata": {}
  },
  {
   "cell_type": "code",
   "execution_count": null,
   "metadata": {},
   "outputs": [],
   "source": [
    "# Before\n",
    "hats_i_own = []\n",
    "hats_i_own.append('panama')\n",
    "hats_i_own.append('baseball_cap')\n",
    "hats_i_own.append('bowler')\n",
    "\n",
    "# After\n",
    "hats_i_own = ['panama', 'baseball_cap', 'bowler']\n"
   ]
  },
  {
   "source": [
    "#### Move assignments closer to their usage"
   ],
   "cell_type": "markdown",
   "metadata": {}
  },
  {
   "cell_type": "code",
   "execution_count": null,
   "metadata": {},
   "outputs": [],
   "source": [
    "# Before\n",
    "def should_i_wear_this_hat(self, hat):\n",
    "    if not isinstance(hat, Hat):\n",
    "        return False\n",
    "\n",
    "    current_fashion = get_fashion()\n",
    "    weather_outside = self.look_out_of_window()\n",
    "    is_stylish = self.evaluate_style(hat, current_fashion)\n",
    "    if weather_outside.is_raining:\n",
    "        print(\"Damn.\")\n",
    "        return True\n",
    "    else:\n",
    "        print(\"Great.\")\n",
    "        return is_stylish\n",
    "\n",
    "# Intermediate\n",
    "def should_i_wear_this_hat(self, hat):\n",
    "    if not isinstance(hat, Hat):\n",
    "        return False\n",
    "\n",
    "    current_fashion = get_fashion()\n",
    "    weather_outside = self.look_out_of_window()\n",
    "    is_stylish = self.evaluate_style(hat, current_fashion)\n",
    "    if weather_outside.is_raining:\n",
    "        print(\"Damn.\")\n",
    "        return True\n",
    "    else:\n",
    "        print(\"Great.\")\n",
    "        return is_stylish\n",
    "\n",
    "# After\n",
    "def should_i_wear_this_hat(self, hat):\n",
    "    if not isinstance(hat, Hat):\n",
    "        return False\n",
    "\n",
    "    weather_outside = self.look_out_of_window()\n",
    "    if weather_outside.is_raining:\n",
    "        print(\"Damn.\")\n",
    "        return True\n",
    "    else:\n",
    "        print(\"Great.\")\n",
    "        current_fashion = get_fashion()\n",
    "        return self.evaluate_style(hat, current_fashion)"
   ]
  },
  {
   "source": [
    "#### Use items() to directly unpack dictionary values"
   ],
   "cell_type": "markdown",
   "metadata": {}
  },
  {
   "cell_type": "code",
   "execution_count": null,
   "metadata": {},
   "outputs": [],
   "source": [
    "# Before\n",
    "hats_by_colour = {'blue': ['panama', 'baseball_cap']}\n",
    "for hat_colour in hats_by_colour:\n",
    "    hats = hats_by_colour[hat_colour]\n",
    "    if hat_colour in self.favourite_colours:\n",
    "        think_about_wearing(hats)\n",
    "\n",
    "# After\n",
    "hats_by_colour = {'blue': ['panama', 'baseball_cap']}\n",
    "for hat_colour, hats in hats_by_colour.items():\n",
    "    if hat_colour in self.favourite_colours:\n",
    "        think_about_wearing(hats)"
   ]
  },
  {
   "source": [
    "#### Simplify sequence comparison"
   ],
   "cell_type": "markdown",
   "metadata": {}
  },
  {
   "cell_type": "code",
   "execution_count": null,
   "metadata": {},
   "outputs": [],
   "source": [
    "# Before\n",
    "if len(list_of_hats) > 0:\n",
    "    hat_to_wear = choose_hat(list_of_hats)\n",
    "\n",
    "# After\n",
    "if list_of_hats:\n",
    "    hat_to_wear = choose_hat(list_of_hats)"
   ]
  },
  {
   "source": [
    "#### Merge duplicate blocks in conditional"
   ],
   "cell_type": "markdown",
   "metadata": {}
  },
  {
   "cell_type": "code",
   "execution_count": null,
   "metadata": {},
   "outputs": [],
   "source": [
    "# Before\n",
    "def process_payment(payment):\n",
    "    if payment.currency == 'USD':\n",
    "        process_standard_payment(payment)\n",
    "    elif payment.currency == 'EUR':\n",
    "        process_standard_payment(payment)\n",
    "    else:\n",
    "        process_international_payment(payment)\n",
    "\n",
    "# After\n",
    "def process_payment(payment):\n",
    "    if payment.currency == 'USD' or payment.currency == 'EUR':\n",
    "        process_standard_payment(payment)\n",
    "    else:\n",
    "        process_international_payment(payment)"
   ]
  },
  {
   "source": [
    "#### Replace multiple comparisons of some variable with `in` operator"
   ],
   "cell_type": "markdown",
   "metadata": {}
  },
  {
   "cell_type": "code",
   "execution_count": null,
   "metadata": {},
   "outputs": [],
   "source": [
    "# Before - previously refactored\n",
    "def process_payment(payment):\n",
    "    if payment.currency == 'USD' or payment.currency == 'EUR':\n",
    "        process_standard_payment(payment)\n",
    "    else:\n",
    "        process_international_payment(payment)\n",
    "\n",
    "# After\n",
    "def process_payment(payment):\n",
    "    if payment.currency in ['USD', 'EUR']:\n",
    "        process_standard_payment(payment)\n",
    "    else:\n",
    "        process_international_payment(payment)"
   ]
  },
  {
   "source": [
    "#### Simplify if expression using `or`"
   ],
   "cell_type": "markdown",
   "metadata": {}
  },
  {
   "cell_type": "code",
   "execution_count": null,
   "metadata": {},
   "outputs": [],
   "source": [
    "# Before\n",
    "if input_currency:\n",
    "    currency = input_currency\n",
    "else:\n",
    "    currency = DEFAULT_CURRENCY\n",
    "\n",
    "# Intermediate - if expression\n",
    "currency = input_currency if input_currency else DEFAULT_CURRENCY\n",
    "\n",
    "# After\n",
    "currency = input_currency or DEFAULT_CURRENCY\n"
   ]
  },
  {
   "source": [
    "#### Replace index in for loop with direct reference"
   ],
   "cell_type": "markdown",
   "metadata": {}
  },
  {
   "cell_type": "code",
   "execution_count": null,
   "metadata": {},
   "outputs": [],
   "source": [
    "# Before\n",
    "for i in range(len(currencies)):\n",
    "    print(currencies[i])\n",
    "\n",
    "# After\n",
    "for currency in currencies:\n",
    "    print(currency)"
   ]
  },
  {
   "source": [
    "#### Remove unnecessary call to keys()"
   ],
   "cell_type": "markdown",
   "metadata": {}
  },
  {
   "cell_type": "code",
   "execution_count": null,
   "metadata": {},
   "outputs": [],
   "source": [
    "# Before\n",
    "for currency in currencies.keys():\n",
    "    process(currency)\n",
    "\n",
    "# After - default dictionary iteration uses keys\n",
    "for currency in currencies:\n",
    "    process(currency)"
   ]
  },
  {
   "source": [
    "#### Replace manual loop counter with call to enumerate"
   ],
   "cell_type": "markdown",
   "metadata": {}
  },
  {
   "cell_type": "code",
   "execution_count": null,
   "metadata": {},
   "outputs": [],
   "source": [
    "# Before\n",
    "i = 0\n",
    "for currency in currencies:\n",
    "    print(i, currency)\n",
    "    i += 1\n",
    "\n",
    "# After\n",
    "for i, currency in enumerate(currencies):\n",
    "    print(i, currency)"
   ]
  }
 ]
}