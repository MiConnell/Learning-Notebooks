{
 "metadata": {
  "language_info": {
   "codemirror_mode": {
    "name": "ipython",
    "version": 3
   },
   "file_extension": ".py",
   "mimetype": "text/x-python",
   "name": "python",
   "nbconvert_exporter": "python",
   "pygments_lexer": "ipython3",
   "version": "3.9.1-final"
  },
  "orig_nbformat": 2,
  "kernelspec": {
   "name": "04df6ea1-8e55-4421-bf87-6fad1eb9ccda",
   "display_name": "'Python Interactive'",
   "language": "python"
  }
 },
 "nbformat": 4,
 "nbformat_minor": 2,
 "cells": [
  {
   "source": [
    "# Common Algothrims"
   ],
   "cell_type": "markdown",
   "metadata": {}
  },
  {
   "source": [
    "## two pointer technique"
   ],
   "cell_type": "markdown",
   "metadata": {}
  },
  {
   "source": [
    "### find two numbers in a sorted array that sum to a target\n",
    "```python\n",
    "[-1, 1, 2, 3, 5], x = 5\n",
    "```\n",
    "instead of using a nested for loop, which would be On^2 time, we can use two pointers. One starting at the beginning of the list which will be increased if the result is smaller than the target, and one at the end which will be decremented if the result is larger than the target.\n",
    "\n",
    "```python \n",
    "[-1, 5] = 4\n",
    "[1, 5] = 6\n",
    "[1, 3] = 4\n",
    "[2, 3] = 5\n",
    "```"
   ],
   "cell_type": "markdown",
   "metadata": {}
  },
  {
   "cell_type": "code",
   "execution_count": null,
   "metadata": {},
   "outputs": [],
   "source": [
    "def two_sum(arr: List[int], target: int) -> List[int]:\n",
    "    left = 0\n",
    "    right = len(arr - 1)\n",
    "    while left < right:\n",
    "        curr = arr[left] + arr[right]\n",
    "        if curr < target:\n",
    "            left += 1\n",
    "        elif curr > target:\n",
    "            right -= 1\n",
    "        else:\n",
    "            return [left, right]\n",
    "    return [-1, -1]\n",
    "\n"
   ]
  },
  {
   "source": [
    "### find three numbers in a sorted array that sum to a target\n",
    "```python\n",
    "[1, 2, 4, 5, 12], x = 19\n",
    "```\n",
    "Set the target to target - first item, then perform the two pointer technique on the remaining elements\n",
    "\n",
    "```python\n",
    "target = 19 - 1\n",
    "[2, 12] = 14\n",
    "[4, 12] = 16\n",
    "[5, 12] = 17\n",
    "\n",
    "# no matches\n",
    "\n",
    "target = 19 - 2\n",
    "\n",
    "[4, 12] = 16\n",
    "[5, 12] = 17 \n",
    "\n",
    "# that matches the target\n",
    "```"
   ],
   "cell_type": "markdown",
   "metadata": {}
  },
  {
   "source": [
    "## sliding window technique\n",
    "\n",
    "find the max sum of any contiguous subarray of size k\n",
    "\n",
    "instead of brute force with iterating over all subarrays, we can create a `sliding window` with two pointers. while the size of the window is less than k, we increment the right pointer.\n",
    "after the size of the window is `k`, we increment the right and left pointers, add the right pointer value to the check value and subtract the left pointer's previous value."
   ],
   "cell_type": "markdown",
   "metadata": {}
  },
  {
   "cell_type": "code",
   "execution_count": 3,
   "metadata": {},
   "outputs": [
    {
     "output_type": "execute_result",
     "data": {
      "text/plain": [
       "82"
      ]
     },
     "metadata": {},
     "execution_count": 3
    }
   ],
   "source": [
    "from typing import List\n",
    "\n",
    "def max_sum_subarray(arr: List[int], k: int) -> int:\n",
    "    max_sum = float('-inf')\n",
    "    start = 0\n",
    "    curr = 0\n",
    "    for end, val in enumerate(arr):\n",
    "        curr += val\n",
    "        if end - start + 1 == k:\n",
    "            max_sum = max(max_sum, curr)\n",
    "            curr -= arr[start]\n",
    "            start += 1  \n",
    "    return max_sum\n",
    "\n",
    "max_sum_subarray([1, 3, 5, 8, 69], 3)"
   ]
  },
  {
   "cell_type": "code",
   "execution_count": null,
   "metadata": {},
   "outputs": [],
   "source": []
  }
 ]
}